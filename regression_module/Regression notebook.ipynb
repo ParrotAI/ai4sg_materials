{
 "cells": [
  {
   "cell_type": "markdown",
   "metadata": {},
   "source": [
    "# <img style=\"float: left; padding-right: 100px; width: 300px\" src=\"images/logo.png\">AI4SG Bootcamp:\n",
    "\n",
    "\n",
    "## Supervised Machine Learning\n",
    "**Authors:** Frederick Apina\n",
    "\n",
    "\n",
    "---"
   ]
  },
  {
   "cell_type": "markdown",
   "metadata": {},
   "source": [
    "## Intro to regression problem \n",
    "what, how does it work, application and how to evaluate\n"
   ]
  },
  {
   "cell_type": "markdown",
   "metadata": {},
   "source": [
    "## End to end ML \n"
   ]
  },
  {
   "cell_type": "markdown",
   "metadata": {},
   "source": [
    "## Apply end to end ML on a specific use-case : Predict age of mobile money user on zindi dataset."
   ]
  },
  {
   "cell_type": "markdown",
   "metadata": {},
   "source": [
    "*Problem*\n",
    "\n",
    "*Only 16.7% of the population in Tanzania has a bank account. But an additional 48.6% of Tanzanians who don’t have a bank account do have other types of formal financial services, primarily mobile money.*\n",
    "\n",
    "*For people who have been traditionally excluded from the formal financial system in Africa and other developing markets, mobile money has become an important entry point to financial inclusion. While mobile money is a tool for transferring money among people and businesses/other institutions, it is increasingly becoming a platform for people to access a broad range of financial services, including savings, credit, and insurance.*\n",
    "\n",
    "*The objective of this puse-case is to create a machine learning model to predict age of individuals who are most likely to use mobile money and other financial services (savings, credit, and insurance).\n",
    "\n",
    "*This model can help mobile money providers target new clients and markets across Tanzania more effectively, and also help financial services providers cross-sell other financial services (savings, credit, and insurance) to the existing mobile money customer base.*"
   ]
  },
  {
   "cell_type": "markdown",
   "metadata": {},
   "source": [
    "**Code book for mobile money dataset**: Put a link to this code book\n",
    "\n",
    "ID <br>\n",
    "Unique respondent ID\n",
    "<String>\n",
    "\n",
    "Q1 - Age\n",
    "<Number>\n",
    "\n",
    "Q2 - gender <br>\n",
    "1 Male\n",
    "2 Female\n",
    "\n",
    "Q3 - Marital status <br>\n",
    "1 Married\n",
    "2 Divorced\n",
    "3 Widowed\n",
    "4 Single/never married\n",
    "\n",
    "Q4 - Highest level of education completed? <br>\n",
    "1 No formal education\n",
    "2 Some primary\n",
    "3 Primary completed\n",
    "4 Post primary technical training\n",
    "5 Some secondary\n",
    "6 University or other higher education\n",
    "7 Don’t know\n",
    "\n",
    "Q5 - Which of the following applies to you? Read out; Single response <br>\n",
    "1 You personally own the land/plot where you live\n",
    "2 You own the land/plot together with someone else \n",
    "3 A household member owns the land/plot \n",
    "4 The land/plot is rented \n",
    "5 You don’t own or rent the land \n",
    "6 Don’t know\n",
    "\n",
    "Q6 - Do you personally own land (other than the land you live on) that you have land certificates of ownership for? <br>\n",
    "1 Yes\n",
    "2 No\n",
    "\n",
    "Q7 - Do you personally own a mobile phone? <br>\n",
    "1 Yes\n",
    "2 No\n",
    "\n",
    "Q8_1 through Q8_11 - Different people have different ways of getting money, please tell me how you get the money you spend?\n",
    "Multiple mention possible\n",
    "\n",
    "Q8_1 - Salaries/wages <br>\n",
    "1 Yes\n",
    "0 No\n",
    "\n",
    "Q8_2 - Money from trading/selling   Anything you produce/grow/raise/make/collect with the intention of selling <br>\n",
    "1 Yes\n",
    "0 No\n",
    "\n",
    "Q8_3 - Money from providing a service – i.e. such as transport, hairdressing, processing, hospitality services (food & accommodation) <br>\n",
    "1 Yes\n",
    "0 No\n",
    "\n",
    "Q8_4 - Piece work/Casual labor/Occasional jobs <br>\n",
    "1 Yes\n",
    "0 No\n",
    "\n",
    "Q8_5 - Rental income <br>\n",
    "1 Yes\n",
    "0 No \n",
    "\n",
    "Q8_6 - Interest from savings, investments, stocks, unit trusts etc. <br>\n",
    "1 Yes\n",
    "0 No\n",
    "\n",
    "Q8_7 - Pension <br>\n",
    "1 Yes\n",
    "0 No\n",
    "\n",
    "Q8_8 - Social welfare money/grant from Government <br>\n",
    "1 Yes\n",
    "0 No\n",
    "\n",
    "Q8_9 - Rely on someone else/others to give/send me money <br>\n",
    "1 Yes\n",
    "0 No\n",
    "\n",
    "Q8_10 - Don’t get money – someone else pays my expenses <br>\n",
    "1 Yes\n",
    "0 No\n",
    "\n",
    "Q8_11 - Other <br>\n",
    "1 Yes\n",
    "0 No\n",
    "\n",
    "Q9 - Only for those who said they get a salary/wages. Who do you work for?  <br>\n",
    "-1 not applicable\n",
    "1 Government\n",
    "2 Private company/business\n",
    "3 Individual who owns his own business\n",
    "4 Small scale farmer\n",
    "5 Commercial farmer \n",
    "6 Work for individual/household e.g. security guard, maid etc. \n",
    "7 Other\n",
    "\n",
    "Q10 - Only for those who said they get money from selling things – what kind of things do you MAINLY sell (get most money from)? <br>\n",
    "-1 not applicable\n",
    "1 Crops/produce I grow\n",
    "2 Products I get from livestock\n",
    "3 Livestock \n",
    "4 Fish you catch yourself/aquaculture\n",
    "5 Things you buy from others – agricultural products\n",
    "6 Things you buy from others – non-agricultural products\n",
    "7 Things you make (clothes, art, crafts)\n",
    "8 Things you collect from nature (stones, sand, thatch, herbs)\n",
    "9 Things you process (honey, dairy products, flour)\n",
    "10 Other\n",
    "\n",
    "Q11 - Only for those who said they get money from providing a service – what kind of services do you MAINLY provide (get most money from)? <br>\n",
    "-1 not applicable\n",
    "1 Personal services (hairdressers, massage, etc.) \n",
    "2 Telecommunications/IT\n",
    "3 Financial services \n",
    "4 Transport \n",
    "5 Hospitality – Accommodation, restaurants, etc. \n",
    "6 Information/research \n",
    "7 Technical – mechanic, etc. \n",
    "8 Educational/child care \n",
    "9 Health services – traditional healer etc. \n",
    "10 Legal services \n",
    "11 Security \n",
    "12 Other, specify\n",
    "\n",
    "Q12 - In the past 12 months, have you sent money to someone in a different place within the country or outside of Tanzania? <br>\n",
    "1 Yes\n",
    "2 No\n",
    "\n",
    "Q13 - When did you last send money? <br>\n",
    "-1 not applicable\n",
    "1 Yesterday/today \n",
    "2 In the past 7 days \n",
    "3 In the past 30 days \n",
    "4 In the past 90 days \n",
    "5 More than 90 days ago but less than 6 months ago  \n",
    "6 6 months or longer ago\n",
    "\n",
    "Q14 - In the past 12 months, have you received money from someone in a different place within the country or from outside the country? <br>\n",
    "1 Yes\n",
    "2 No\n",
    "\n",
    "Q15 - When did you last receive money? <br>\n",
    "-1 not applicable\n",
    "1 Yesterday/today \n",
    "2 In the past 7 days \n",
    "3 In the past 30 days \n",
    "4 In the past 90 days \n",
    "5 More than 90 days ago but less than 6 months ago  \n",
    "6 6 months or longer ago\n",
    "\n",
    "Q16 - In the past 12 months, how often did you use mobile money for purchases of goods and/or services?\n",
    "-1 not applicable <br>\n",
    "1 Never\n",
    "2 Daily \n",
    "3 Weekly \n",
    "4 Monthly \n",
    "5 Less often than monthly\n",
    "\n",
    "Q17 - In the past 12 months, how often did you use mobile money for paying your bills? <br>\n",
    "-1 not applicable\n",
    "1 Never\n",
    "2 Daily \n",
    "3 Weekly \n",
    "4 Monthly \n",
    "5 Less often than monthly\n",
    "\n",
    "Q18 - Literacy in Kiswhahili <br>\n",
    "1 Can read and write  \n",
    "2 Can read only  \n",
    "3 Can write only  \n",
    "4 Can neither read nor write  \n",
    "5 Refused to read\n",
    "\n",
    "Q19 - Literacy in English <br>\n",
    "1 Can read and write  \n",
    "2 Can read only  \n",
    "3 Can write only  \n",
    "4 Can neither read nor write  \n",
    "5 Refused to read\n",
    "\n",
    "Latitude - Approximate latitude <br>\n",
    "Number\n",
    "\n",
    "Longitude - Approximate longitude <br>\n",
    "Number\n",
    "\n",
    "Mobile_money_classification <br>\n",
    "0 no mobile money and no other financial service (saving, borrowing, insurance)\n",
    "1 no mobile money, but at least one other financial service\n",
    "2 mobile money only\n",
    "3 mobile money and at least one other financial service\n"
   ]
  },
  {
   "cell_type": "markdown",
   "metadata": {},
   "source": [
    "# Setup"
   ]
  },
  {
   "cell_type": "markdown",
   "metadata": {},
   "source": [
    "import important modules"
   ]
  },
  {
   "cell_type": "code",
   "execution_count": 15,
   "metadata": {},
   "outputs": [],
   "source": [
    "import numpy as np\n",
    "np.random.seed(42)#for reproducible experiments\n",
    "import pandas as pd\n",
    "import matplotlib.pyplot as plt\n",
    "import seaborn as sns\n",
    "import os\n",
    "%matplotlib inline"
   ]
  },
  {
   "cell_type": "markdown",
   "metadata": {},
   "source": [
    "### Get the data"
   ]
  },
  {
   "cell_type": "code",
   "execution_count": 7,
   "metadata": {},
   "outputs": [],
   "source": [
    "DATA_PATH = \"data/\""
   ]
  },
  {
   "cell_type": "code",
   "execution_count": 54,
   "metadata": {},
   "outputs": [],
   "source": [
    "def load_data(data_path=DATA_PATH):\n",
    "    csv_path = os.path.join(data_path, \"train_data.csv\")\n",
    "    return pd.read_csv(csv_path)"
   ]
  },
  {
   "cell_type": "code",
   "execution_count": 55,
   "metadata": {},
   "outputs": [
    {
     "data": {
      "text/html": [
       "<div>\n",
       "<style scoped>\n",
       "    .dataframe tbody tr th:only-of-type {\n",
       "        vertical-align: middle;\n",
       "    }\n",
       "\n",
       "    .dataframe tbody tr th {\n",
       "        vertical-align: top;\n",
       "    }\n",
       "\n",
       "    .dataframe thead th {\n",
       "        text-align: right;\n",
       "    }\n",
       "</style>\n",
       "<table border=\"1\" class=\"dataframe\">\n",
       "  <thead>\n",
       "    <tr style=\"text-align: right;\">\n",
       "      <th></th>\n",
       "      <th>ID</th>\n",
       "      <th>Q1</th>\n",
       "      <th>Q2</th>\n",
       "      <th>Q3</th>\n",
       "      <th>Q4</th>\n",
       "      <th>Q5</th>\n",
       "      <th>Q6</th>\n",
       "      <th>Q7</th>\n",
       "      <th>Q8_1</th>\n",
       "      <th>Q8_2</th>\n",
       "      <th>...</th>\n",
       "      <th>Q13</th>\n",
       "      <th>Q14</th>\n",
       "      <th>Q15</th>\n",
       "      <th>Q16</th>\n",
       "      <th>Q17</th>\n",
       "      <th>Q18</th>\n",
       "      <th>Q19</th>\n",
       "      <th>Latitude</th>\n",
       "      <th>Longitude</th>\n",
       "      <th>mobile_money_classification</th>\n",
       "    </tr>\n",
       "  </thead>\n",
       "  <tbody>\n",
       "    <tr>\n",
       "      <th>0</th>\n",
       "      <td>5423</td>\n",
       "      <td>49</td>\n",
       "      <td>2</td>\n",
       "      <td>1</td>\n",
       "      <td>6</td>\n",
       "      <td>1</td>\n",
       "      <td>2</td>\n",
       "      <td>1</td>\n",
       "      <td>0</td>\n",
       "      <td>1</td>\n",
       "      <td>...</td>\n",
       "      <td>1</td>\n",
       "      <td>1</td>\n",
       "      <td>3</td>\n",
       "      <td>1</td>\n",
       "      <td>-1</td>\n",
       "      <td>1</td>\n",
       "      <td>2</td>\n",
       "      <td>-8.103924</td>\n",
       "      <td>35.902981</td>\n",
       "      <td>3</td>\n",
       "    </tr>\n",
       "    <tr>\n",
       "      <th>1</th>\n",
       "      <td>7314</td>\n",
       "      <td>18</td>\n",
       "      <td>2</td>\n",
       "      <td>4</td>\n",
       "      <td>6</td>\n",
       "      <td>3</td>\n",
       "      <td>2</td>\n",
       "      <td>2</td>\n",
       "      <td>0</td>\n",
       "      <td>0</td>\n",
       "      <td>...</td>\n",
       "      <td>-1</td>\n",
       "      <td>2</td>\n",
       "      <td>-1</td>\n",
       "      <td>1</td>\n",
       "      <td>-1</td>\n",
       "      <td>1</td>\n",
       "      <td>4</td>\n",
       "      <td>-5.934199</td>\n",
       "      <td>37.278615</td>\n",
       "      <td>0</td>\n",
       "    </tr>\n",
       "    <tr>\n",
       "      <th>2</th>\n",
       "      <td>4320</td>\n",
       "      <td>17</td>\n",
       "      <td>2</td>\n",
       "      <td>1</td>\n",
       "      <td>3</td>\n",
       "      <td>3</td>\n",
       "      <td>2</td>\n",
       "      <td>2</td>\n",
       "      <td>0</td>\n",
       "      <td>0</td>\n",
       "      <td>...</td>\n",
       "      <td>-1</td>\n",
       "      <td>2</td>\n",
       "      <td>-1</td>\n",
       "      <td>1</td>\n",
       "      <td>-1</td>\n",
       "      <td>1</td>\n",
       "      <td>4</td>\n",
       "      <td>-4.663185</td>\n",
       "      <td>38.471053</td>\n",
       "      <td>1</td>\n",
       "    </tr>\n",
       "    <tr>\n",
       "      <th>3</th>\n",
       "      <td>7625</td>\n",
       "      <td>37</td>\n",
       "      <td>2</td>\n",
       "      <td>1</td>\n",
       "      <td>3</td>\n",
       "      <td>1</td>\n",
       "      <td>2</td>\n",
       "      <td>1</td>\n",
       "      <td>0</td>\n",
       "      <td>1</td>\n",
       "      <td>...</td>\n",
       "      <td>-1</td>\n",
       "      <td>2</td>\n",
       "      <td>-1</td>\n",
       "      <td>1</td>\n",
       "      <td>-1</td>\n",
       "      <td>4</td>\n",
       "      <td>4</td>\n",
       "      <td>-7.955359</td>\n",
       "      <td>36.863508</td>\n",
       "      <td>1</td>\n",
       "    </tr>\n",
       "    <tr>\n",
       "      <th>4</th>\n",
       "      <td>9183</td>\n",
       "      <td>30</td>\n",
       "      <td>2</td>\n",
       "      <td>2</td>\n",
       "      <td>3</td>\n",
       "      <td>1</td>\n",
       "      <td>2</td>\n",
       "      <td>2</td>\n",
       "      <td>0</td>\n",
       "      <td>1</td>\n",
       "      <td>...</td>\n",
       "      <td>-1</td>\n",
       "      <td>2</td>\n",
       "      <td>-1</td>\n",
       "      <td>5</td>\n",
       "      <td>-1</td>\n",
       "      <td>1</td>\n",
       "      <td>4</td>\n",
       "      <td>-5.016777</td>\n",
       "      <td>32.810082</td>\n",
       "      <td>2</td>\n",
       "    </tr>\n",
       "  </tbody>\n",
       "</table>\n",
       "<p>5 rows × 33 columns</p>\n",
       "</div>"
      ],
      "text/plain": [
       "     ID  Q1  Q2  Q3  Q4  Q5  Q6  Q7  Q8_1  Q8_2  ...  Q13  Q14  Q15  Q16  Q17  \\\n",
       "0  5423  49   2   1   6   1   2   1     0     1  ...    1    1    3    1   -1   \n",
       "1  7314  18   2   4   6   3   2   2     0     0  ...   -1    2   -1    1   -1   \n",
       "2  4320  17   2   1   3   3   2   2     0     0  ...   -1    2   -1    1   -1   \n",
       "3  7625  37   2   1   3   1   2   1     0     1  ...   -1    2   -1    1   -1   \n",
       "4  9183  30   2   2   3   1   2   2     0     1  ...   -1    2   -1    5   -1   \n",
       "\n",
       "   Q18  Q19  Latitude  Longitude  mobile_money_classification  \n",
       "0    1    2 -8.103924  35.902981                            3  \n",
       "1    1    4 -5.934199  37.278615                            0  \n",
       "2    1    4 -4.663185  38.471053                            1  \n",
       "3    4    4 -7.955359  36.863508                            1  \n",
       "4    1    4 -5.016777  32.810082                            2  \n",
       "\n",
       "[5 rows x 33 columns]"
      ]
     },
     "execution_count": 55,
     "metadata": {},
     "output_type": "execute_result"
    }
   ],
   "source": [
    "data = load_data()\n",
    "data.head()"
   ]
  },
  {
   "cell_type": "markdown",
   "metadata": {},
   "source": [
    "### Discover and visualize the data to gain insights"
   ]
  },
  {
   "cell_type": "code",
   "execution_count": 56,
   "metadata": {},
   "outputs": [
    {
     "data": {
      "text/plain": [
       "(5923, 33)"
      ]
     },
     "execution_count": 56,
     "metadata": {},
     "output_type": "execute_result"
    }
   ],
   "source": [
    "data.shape"
   ]
  },
  {
   "cell_type": "markdown",
   "metadata": {},
   "source": [
    "### Check for missing values"
   ]
  },
  {
   "cell_type": "code",
   "execution_count": 57,
   "metadata": {},
   "outputs": [
    {
     "data": {
      "text/html": [
       "<div>\n",
       "<style scoped>\n",
       "    .dataframe tbody tr th:only-of-type {\n",
       "        vertical-align: middle;\n",
       "    }\n",
       "\n",
       "    .dataframe tbody tr th {\n",
       "        vertical-align: top;\n",
       "    }\n",
       "\n",
       "    .dataframe thead th {\n",
       "        text-align: right;\n",
       "    }\n",
       "</style>\n",
       "<table border=\"1\" class=\"dataframe\">\n",
       "  <thead>\n",
       "    <tr style=\"text-align: right;\">\n",
       "      <th></th>\n",
       "      <th>Total</th>\n",
       "      <th>Percent</th>\n",
       "    </tr>\n",
       "  </thead>\n",
       "  <tbody>\n",
       "    <tr>\n",
       "      <th>mobile_money_classification</th>\n",
       "      <td>0</td>\n",
       "      <td>0.0</td>\n",
       "    </tr>\n",
       "    <tr>\n",
       "      <th>Q8_8</th>\n",
       "      <td>0</td>\n",
       "      <td>0.0</td>\n",
       "    </tr>\n",
       "    <tr>\n",
       "      <th>Q1</th>\n",
       "      <td>0</td>\n",
       "      <td>0.0</td>\n",
       "    </tr>\n",
       "    <tr>\n",
       "      <th>Q2</th>\n",
       "      <td>0</td>\n",
       "      <td>0.0</td>\n",
       "    </tr>\n",
       "    <tr>\n",
       "      <th>Q3</th>\n",
       "      <td>0</td>\n",
       "      <td>0.0</td>\n",
       "    </tr>\n",
       "    <tr>\n",
       "      <th>Q4</th>\n",
       "      <td>0</td>\n",
       "      <td>0.0</td>\n",
       "    </tr>\n",
       "    <tr>\n",
       "      <th>Q5</th>\n",
       "      <td>0</td>\n",
       "      <td>0.0</td>\n",
       "    </tr>\n",
       "    <tr>\n",
       "      <th>Q6</th>\n",
       "      <td>0</td>\n",
       "      <td>0.0</td>\n",
       "    </tr>\n",
       "    <tr>\n",
       "      <th>Q7</th>\n",
       "      <td>0</td>\n",
       "      <td>0.0</td>\n",
       "    </tr>\n",
       "    <tr>\n",
       "      <th>Q8_1</th>\n",
       "      <td>0</td>\n",
       "      <td>0.0</td>\n",
       "    </tr>\n",
       "    <tr>\n",
       "      <th>Q8_2</th>\n",
       "      <td>0</td>\n",
       "      <td>0.0</td>\n",
       "    </tr>\n",
       "    <tr>\n",
       "      <th>Q8_3</th>\n",
       "      <td>0</td>\n",
       "      <td>0.0</td>\n",
       "    </tr>\n",
       "    <tr>\n",
       "      <th>Q8_4</th>\n",
       "      <td>0</td>\n",
       "      <td>0.0</td>\n",
       "    </tr>\n",
       "    <tr>\n",
       "      <th>Q8_5</th>\n",
       "      <td>0</td>\n",
       "      <td>0.0</td>\n",
       "    </tr>\n",
       "    <tr>\n",
       "      <th>Q8_6</th>\n",
       "      <td>0</td>\n",
       "      <td>0.0</td>\n",
       "    </tr>\n",
       "    <tr>\n",
       "      <th>Q8_7</th>\n",
       "      <td>0</td>\n",
       "      <td>0.0</td>\n",
       "    </tr>\n",
       "    <tr>\n",
       "      <th>Q8_9</th>\n",
       "      <td>0</td>\n",
       "      <td>0.0</td>\n",
       "    </tr>\n",
       "    <tr>\n",
       "      <th>Longitude</th>\n",
       "      <td>0</td>\n",
       "      <td>0.0</td>\n",
       "    </tr>\n",
       "    <tr>\n",
       "      <th>Q8_10</th>\n",
       "      <td>0</td>\n",
       "      <td>0.0</td>\n",
       "    </tr>\n",
       "    <tr>\n",
       "      <th>Q8_11</th>\n",
       "      <td>0</td>\n",
       "      <td>0.0</td>\n",
       "    </tr>\n",
       "    <tr>\n",
       "      <th>Q9</th>\n",
       "      <td>0</td>\n",
       "      <td>0.0</td>\n",
       "    </tr>\n",
       "    <tr>\n",
       "      <th>Q10</th>\n",
       "      <td>0</td>\n",
       "      <td>0.0</td>\n",
       "    </tr>\n",
       "    <tr>\n",
       "      <th>Q11</th>\n",
       "      <td>0</td>\n",
       "      <td>0.0</td>\n",
       "    </tr>\n",
       "    <tr>\n",
       "      <th>Q12</th>\n",
       "      <td>0</td>\n",
       "      <td>0.0</td>\n",
       "    </tr>\n",
       "    <tr>\n",
       "      <th>Q13</th>\n",
       "      <td>0</td>\n",
       "      <td>0.0</td>\n",
       "    </tr>\n",
       "    <tr>\n",
       "      <th>Q14</th>\n",
       "      <td>0</td>\n",
       "      <td>0.0</td>\n",
       "    </tr>\n",
       "    <tr>\n",
       "      <th>Q15</th>\n",
       "      <td>0</td>\n",
       "      <td>0.0</td>\n",
       "    </tr>\n",
       "    <tr>\n",
       "      <th>Q16</th>\n",
       "      <td>0</td>\n",
       "      <td>0.0</td>\n",
       "    </tr>\n",
       "    <tr>\n",
       "      <th>Q17</th>\n",
       "      <td>0</td>\n",
       "      <td>0.0</td>\n",
       "    </tr>\n",
       "    <tr>\n",
       "      <th>Q18</th>\n",
       "      <td>0</td>\n",
       "      <td>0.0</td>\n",
       "    </tr>\n",
       "    <tr>\n",
       "      <th>Q19</th>\n",
       "      <td>0</td>\n",
       "      <td>0.0</td>\n",
       "    </tr>\n",
       "    <tr>\n",
       "      <th>Latitude</th>\n",
       "      <td>0</td>\n",
       "      <td>0.0</td>\n",
       "    </tr>\n",
       "    <tr>\n",
       "      <th>ID</th>\n",
       "      <td>0</td>\n",
       "      <td>0.0</td>\n",
       "    </tr>\n",
       "  </tbody>\n",
       "</table>\n",
       "</div>"
      ],
      "text/plain": [
       "                             Total  Percent\n",
       "mobile_money_classification      0      0.0\n",
       "Q8_8                             0      0.0\n",
       "Q1                               0      0.0\n",
       "Q2                               0      0.0\n",
       "Q3                               0      0.0\n",
       "Q4                               0      0.0\n",
       "Q5                               0      0.0\n",
       "Q6                               0      0.0\n",
       "Q7                               0      0.0\n",
       "Q8_1                             0      0.0\n",
       "Q8_2                             0      0.0\n",
       "Q8_3                             0      0.0\n",
       "Q8_4                             0      0.0\n",
       "Q8_5                             0      0.0\n",
       "Q8_6                             0      0.0\n",
       "Q8_7                             0      0.0\n",
       "Q8_9                             0      0.0\n",
       "Longitude                        0      0.0\n",
       "Q8_10                            0      0.0\n",
       "Q8_11                            0      0.0\n",
       "Q9                               0      0.0\n",
       "Q10                              0      0.0\n",
       "Q11                              0      0.0\n",
       "Q12                              0      0.0\n",
       "Q13                              0      0.0\n",
       "Q14                              0      0.0\n",
       "Q15                              0      0.0\n",
       "Q16                              0      0.0\n",
       "Q17                              0      0.0\n",
       "Q18                              0      0.0\n",
       "Q19                              0      0.0\n",
       "Latitude                         0      0.0\n",
       "ID                               0      0.0"
      ]
     },
     "execution_count": 57,
     "metadata": {},
     "output_type": "execute_result"
    }
   ],
   "source": [
    "total = data.isnull().sum().sort_values(ascending = False)\n",
    "percent = round(data.isnull().sum().sort_values(ascending = False)/len(data)*100, 2)\n",
    "missing_column=pd.concat([total, percent], axis = 1,keys= ['Total', 'Percent']) \n",
    "missing_column"
   ]
  },
  {
   "cell_type": "code",
   "execution_count": 58,
   "metadata": {},
   "outputs": [
    {
     "data": {
      "text/plain": [
       "3    2600\n",
       "1    1497\n",
       "0    1159\n",
       "2     667\n",
       "Name: mobile_money_classification, dtype: int64"
      ]
     },
     "execution_count": 58,
     "metadata": {},
     "output_type": "execute_result"
    }
   ],
   "source": [
    "data[\"mobile_money_classification\"].value_counts()"
   ]
  },
  {
   "cell_type": "markdown",
   "metadata": {},
   "source": [
    "### Target Distribution"
   ]
  },
  {
   "cell_type": "code",
   "execution_count": 59,
   "metadata": {},
   "outputs": [
    {
     "data": {
      "image/png": "[encoded data removed]",
      "text/plain": [
       "<Figure size 576x360 with 1 Axes>"
      ]
     },
     "metadata": {
      "needs_background": "light"
     },
     "output_type": "display_data"
    }
   ],
   "source": [
    "fig, ax = plt.subplots(ncols=1, figsize=(8,5))\n",
    "ax=sns.kdeplot(data['Q1'])\n",
    "ax.set(ylabel=\"Density\", xlabel=\"Age\", title=\"Age distribution\");"
   ]
  },
  {
   "cell_type": "markdown",
   "metadata": {},
   "source": [
    "Question: What does this tell us? How can we center the distribution"
   ]
  },
  {
   "cell_type": "markdown",
   "metadata": {},
   "source": [
    "Age distribution is skwed to the left with most people between 20 and 40. "
   ]
  },
  {
   "cell_type": "code",
   "execution_count": 60,
   "metadata": {},
   "outputs": [
    {
     "data": {
      "image/png": "[encoded data removed]",
      "text/plain": [
       "<Figure size 576x360 with 1 Axes>"
      ]
     },
     "metadata": {
      "needs_background": "light"
     },
     "output_type": "display_data"
    }
   ],
   "source": [
    "#Apply log\n",
    "fig, ax = plt.subplots(ncols=1, figsize=(8,5))\n",
    "ax=sns.kdeplot(np.log1p(data['Q1']))\n",
    "ax.set(ylabel=\"Density\", xlabel=\"Age\", title=\"Age distribution\");"
   ]
  },
  {
   "cell_type": "code",
   "execution_count": 61,
   "metadata": {},
   "outputs": [],
   "source": [
    "target=data['Q1']\n",
    "data= data.drop(['Q1'],axis=1)"
   ]
  },
  {
   "cell_type": "markdown",
   "metadata": {},
   "source": [
    "### Explore features"
   ]
  },
  {
   "cell_type": "code",
   "execution_count": 62,
   "metadata": {},
   "outputs": [
    {
     "data": {
      "image/png": "[encoded data removed]",
      "text/plain": [
       "<Figure size 432x288 with 1 Axes>"
      ]
     },
     "metadata": {
      "needs_background": "light"
     },
     "output_type": "display_data"
    }
   ],
   "source": [
    "data.dtypes.value_counts().sort_values().plot(kind='barh')\n",
    "plt.title('Number of columns distributed by Data Types')\n",
    "plt.xlabel('Number of columns')\n",
    "plt.ylabel('Data type');\n",
    "plt.savefig(\"data_distribution.pdf\", dpi=600)"
   ]
  },
  {
   "cell_type": "code",
   "execution_count": 63,
   "metadata": {},
   "outputs": [],
   "source": [
    "numeric_column=data.select_dtypes(include=['float64']).columns\n",
    "categ_column=data.select_dtypes(include=['int64']).columns"
   ]
  },
  {
   "cell_type": "markdown",
   "metadata": {},
   "source": [
    "Let us see how many categorical features:"
   ]
  },
  {
   "cell_type": "code",
   "execution_count": 64,
   "metadata": {},
   "outputs": [
    {
     "data": {
      "text/html": [
       "<div>\n",
       "<style scoped>\n",
       "    .dataframe tbody tr th:only-of-type {\n",
       "        vertical-align: middle;\n",
       "    }\n",
       "\n",
       "    .dataframe tbody tr th {\n",
       "        vertical-align: top;\n",
       "    }\n",
       "\n",
       "    .dataframe thead th {\n",
       "        text-align: right;\n",
       "    }\n",
       "</style>\n",
       "<table border=\"1\" class=\"dataframe\">\n",
       "  <thead>\n",
       "    <tr style=\"text-align: right;\">\n",
       "      <th></th>\n",
       "      <th>Total</th>\n",
       "    </tr>\n",
       "  </thead>\n",
       "  <tbody>\n",
       "    <tr>\n",
       "      <th>ID</th>\n",
       "      <td>5923</td>\n",
       "    </tr>\n",
       "    <tr>\n",
       "      <th>Q10</th>\n",
       "      <td>11</td>\n",
       "    </tr>\n",
       "    <tr>\n",
       "      <th>Q11</th>\n",
       "      <td>9</td>\n",
       "    </tr>\n",
       "    <tr>\n",
       "      <th>Q4</th>\n",
       "      <td>8</td>\n",
       "    </tr>\n",
       "    <tr>\n",
       "      <th>Q15</th>\n",
       "      <td>7</td>\n",
       "    </tr>\n",
       "    <tr>\n",
       "      <th>Q13</th>\n",
       "      <td>7</td>\n",
       "    </tr>\n",
       "    <tr>\n",
       "      <th>Q9</th>\n",
       "      <td>7</td>\n",
       "    </tr>\n",
       "    <tr>\n",
       "      <th>Q17</th>\n",
       "      <td>6</td>\n",
       "    </tr>\n",
       "    <tr>\n",
       "      <th>Q5</th>\n",
       "      <td>6</td>\n",
       "    </tr>\n",
       "    <tr>\n",
       "      <th>Q19</th>\n",
       "      <td>5</td>\n",
       "    </tr>\n",
       "    <tr>\n",
       "      <th>Q18</th>\n",
       "      <td>5</td>\n",
       "    </tr>\n",
       "    <tr>\n",
       "      <th>Q16</th>\n",
       "      <td>5</td>\n",
       "    </tr>\n",
       "    <tr>\n",
       "      <th>Q3</th>\n",
       "      <td>4</td>\n",
       "    </tr>\n",
       "    <tr>\n",
       "      <th>mobile_money_classification</th>\n",
       "      <td>4</td>\n",
       "    </tr>\n",
       "    <tr>\n",
       "      <th>Q8_9</th>\n",
       "      <td>2</td>\n",
       "    </tr>\n",
       "    <tr>\n",
       "      <th>Q8_10</th>\n",
       "      <td>2</td>\n",
       "    </tr>\n",
       "    <tr>\n",
       "      <th>Q8_7</th>\n",
       "      <td>2</td>\n",
       "    </tr>\n",
       "    <tr>\n",
       "      <th>Q8_6</th>\n",
       "      <td>2</td>\n",
       "    </tr>\n",
       "    <tr>\n",
       "      <th>Q8_5</th>\n",
       "      <td>2</td>\n",
       "    </tr>\n",
       "    <tr>\n",
       "      <th>Q8_4</th>\n",
       "      <td>2</td>\n",
       "    </tr>\n",
       "    <tr>\n",
       "      <th>Q8_3</th>\n",
       "      <td>2</td>\n",
       "    </tr>\n",
       "    <tr>\n",
       "      <th>Q8_2</th>\n",
       "      <td>2</td>\n",
       "    </tr>\n",
       "    <tr>\n",
       "      <th>Q8_1</th>\n",
       "      <td>2</td>\n",
       "    </tr>\n",
       "    <tr>\n",
       "      <th>Q7</th>\n",
       "      <td>2</td>\n",
       "    </tr>\n",
       "    <tr>\n",
       "      <th>Q6</th>\n",
       "      <td>2</td>\n",
       "    </tr>\n",
       "    <tr>\n",
       "      <th>Q8_11</th>\n",
       "      <td>2</td>\n",
       "    </tr>\n",
       "    <tr>\n",
       "      <th>Q12</th>\n",
       "      <td>2</td>\n",
       "    </tr>\n",
       "    <tr>\n",
       "      <th>Q14</th>\n",
       "      <td>2</td>\n",
       "    </tr>\n",
       "    <tr>\n",
       "      <th>Q2</th>\n",
       "      <td>2</td>\n",
       "    </tr>\n",
       "    <tr>\n",
       "      <th>Q8_8</th>\n",
       "      <td>2</td>\n",
       "    </tr>\n",
       "  </tbody>\n",
       "</table>\n",
       "</div>"
      ],
      "text/plain": [
       "                             Total\n",
       "ID                            5923\n",
       "Q10                             11\n",
       "Q11                              9\n",
       "Q4                               8\n",
       "Q15                              7\n",
       "Q13                              7\n",
       "Q9                               7\n",
       "Q17                              6\n",
       "Q5                               6\n",
       "Q19                              5\n",
       "Q18                              5\n",
       "Q16                              5\n",
       "Q3                               4\n",
       "mobile_money_classification      4\n",
       "Q8_9                             2\n",
       "Q8_10                            2\n",
       "Q8_7                             2\n",
       "Q8_6                             2\n",
       "Q8_5                             2\n",
       "Q8_4                             2\n",
       "Q8_3                             2\n",
       "Q8_2                             2\n",
       "Q8_1                             2\n",
       "Q7                               2\n",
       "Q6                               2\n",
       "Q8_11                            2\n",
       "Q12                              2\n",
       "Q14                              2\n",
       "Q2                               2\n",
       "Q8_8                             2"
      ]
     },
     "execution_count": 64,
     "metadata": {},
     "output_type": "execute_result"
    }
   ],
   "source": [
    "category_num=data[categ_column].apply(pd.Series.nunique, axis = 0).sort_values(ascending = False)\n",
    "category_num=pd.concat([category_num], axis = 1,keys= ['Total']) \n",
    "category_num"
   ]
  },
  {
   "cell_type": "markdown",
   "metadata": {},
   "source": [
    "Questions: How should we handle categorical data"
   ]
  },
  {
   "cell_type": "markdown",
   "metadata": {},
   "source": [
    "We will have to encode the columns having  2 categories and one-hot encode columns with more than 2 categories data. However the column with several categorical data need special attention. "
   ]
  },
  {
   "cell_type": "code",
   "execution_count": 65,
   "metadata": {},
   "outputs": [
    {
     "data": {
      "text/plain": [
       "Index(['ID'], dtype='object')"
      ]
     },
     "execution_count": 65,
     "metadata": {},
     "output_type": "execute_result"
    }
   ],
   "source": [
    "more_category_columns = category_num[category_num[\"Total\"]>50].index\n",
    "more_category_columns"
   ]
  },
  {
   "cell_type": "markdown",
   "metadata": {},
   "source": [
    "The columns ID with very less unique data for each of their categories. We will drop this column"
   ]
  },
  {
   "cell_type": "code",
   "execution_count": 66,
   "metadata": {},
   "outputs": [],
   "source": [
    "#Activity\n",
    "data.drop(['ID'], axis=1, inplace=True)"
   ]
  },
  {
   "cell_type": "code",
   "execution_count": 72,
   "metadata": {},
   "outputs": [],
   "source": [
    "from IPython import display\n",
    "categ_column=data.select_dtypes(include=['int64']).columns\n",
    "for column in categ_column:\n",
    "    data[column].value_counts().sort_values().plot(kind='barh');\n",
    "    plt.title(f\"{column} Distribution\")\n",
    "    plt.show()\n",
    "    input(\"Press Enter to continue...\")\n",
    "    display.clear_output()"
   ]
  },
  {
   "cell_type": "markdown",
   "metadata": {},
   "source": [
    "Questions: what does these figure tell us. What conclusion can you make for each categorical feature"
   ]
  },
  {
   "cell_type": "markdown",
   "metadata": {},
   "source": [
    " Activity:  write a function to encode these categrorical feature"
   ]
  },
  {
   "cell_type": "markdown",
   "metadata": {},
   "source": [
    "####  numerical features"
   ]
  },
  {
   "cell_type": "code",
   "execution_count": 75,
   "metadata": {},
   "outputs": [
    {
     "data": {
      "text/plain": [
       "Index(['Latitude', 'Longitude'], dtype='object')"
      ]
     },
     "execution_count": 75,
     "metadata": {},
     "output_type": "execute_result"
    }
   ],
   "source": [
    "numeric_column"
   ]
  },
  {
   "cell_type": "code",
   "execution_count": 77,
   "metadata": {},
   "outputs": [],
   "source": [
    "for column in numeric_column:\n",
    "    fig, ax = plt.subplots(ncols=1, figsize=(8,5))\n",
    "    ax=sns.kdeplot(data[column])\n",
    "    ax.set(ylabel=\"Density\", xlabel=column, title=f\"{column} distribution\");\n",
    "    plt.show()\n",
    "    input(\"Press Enter to continue...\")\n",
    "    display.clear_output()"
   ]
  },
  {
   "cell_type": "code",
   "execution_count": 83,
   "metadata": {},
   "outputs": [
    {
     "data": {
      "text/plain": [
       "<matplotlib.axes._subplots.AxesSubplot at 0x7fc4753bac50>"
      ]
     },
     "execution_count": 83,
     "metadata": {},
     "output_type": "execute_result"
    },
    {
     "data": {
      "image/png": "[encoded data removed]",
      "text/plain": [
       "<Figure size 432x288 with 1 Axes>"
      ]
     },
     "metadata": {
      "needs_background": "light"
     },
     "output_type": "display_data"
    }
   ],
   "source": [
    "sns.scatterplot(x='Longitude', y='Latitude', data=data)"
   ]
  },
  {
   "cell_type": "markdown",
   "metadata": {},
   "source": [
    "Question: what can we conclude about this plot"
   ]
  },
  {
   "cell_type": "markdown",
   "metadata": {},
   "source": [
    "Scatter plot with age"
   ]
  },
  {
   "cell_type": "code",
   "execution_count": 88,
   "metadata": {},
   "outputs": [
    {
     "data": {
      "text/plain": [
       "<matplotlib.axes._subplots.AxesSubplot at 0x7fc4778f0ba8>"
      ]
     },
     "execution_count": 88,
     "metadata": {},
     "output_type": "execute_result"
    },
    {
     "data": {
      "image/png": "[encoded data removed]",
      "text/plain": [
       "<Figure size 432x288 with 1 Axes>"
      ]
     },
     "metadata": {
      "needs_background": "light"
     },
     "output_type": "display_data"
    }
   ],
   "source": [
    "sns.scatterplot(x='Longitude', y='Latitude', hue=target,  data=data)"
   ]
  },
  {
   "cell_type": "code",
   "execution_count": 13,
   "metadata": {},
   "outputs": [
    {
     "data": {
      "text/plain": [
       "3    0.438967\n",
       "1    0.252744\n",
       "0    0.195678\n",
       "2    0.112612\n",
       "Name: mobile_money_classification, dtype: float64"
      ]
     },
     "execution_count": 13,
     "metadata": {},
     "output_type": "execute_result"
    }
   ],
   "source": [
    "data[\"mobile_money_classification\"].value_counts() / len(data)"
   ]
  },
  {
   "cell_type": "markdown",
   "metadata": {},
   "source": [
    "The argument `sharex=False` fixes a display bug (the x-axis values and legend were not displayed). This is a temporary fix (see: https://github.com/pandas-dev/pandas/issues/10611). Thanks to Wilmer Arellano for pointing it out."
   ]
  },
  {
   "cell_type": "code",
   "execution_count": 16,
   "metadata": {},
   "outputs": [
    {
     "name": "stdout",
     "output_type": "stream",
     "text": [
      "Saving figure age_scatterplot\n"
     ]
    },
    {
     "data": {
      "image/png": "[encoded data removed]",
      "text/plain": [
       "<Figure size 720x504 with 2 Axes>"
      ]
     },
     "metadata": {
      "needs_background": "light"
     },
     "output_type": "display_data"
    }
   ],
   "source": [
    "data.plot(kind=\"scatter\", x=\"Longitude\", y=\"Latitude\", alpha=0.4,\n",
    "    s=data[\"Q1\"], label=\"Age\", figsize=(10,7),\n",
    "    c=data[\"Q1\"], cmap=plt.get_cmap(\"jet\"), colorbar=True,\n",
    "    sharex=False)\n",
    "plt.legend()\n",
    "save_fig(\"age_scatterplot\")"
   ]
  },
  {
   "cell_type": "code",
   "execution_count": 17,
   "metadata": {},
   "outputs": [
    {
     "name": "stdout",
     "output_type": "stream",
     "text": [
      "Saving figure mobile_money_classification_scatterplot\n"
     ]
    },
    {
     "data": {
      "image/png": "[encoded data removed]",
      "text/plain": [
       "<Figure size 720x504 with 2 Axes>"
      ]
     },
     "metadata": {
      "needs_background": "light"
     },
     "output_type": "display_data"
    }
   ],
   "source": [
    "data.plot(kind=\"scatter\", x=\"Longitude\", y=\"Latitude\", alpha=0.4,\n",
    "    s=data[\"mobile_money_classification\"], label=\"mobile_money_classification\", figsize=(10,7),\n",
    "    c=data[\"mobile_money_classification\"], cmap=plt.get_cmap(\"jet\"), colorbar=True,\n",
    "    sharex=False)\n",
    "plt.legend()\n",
    "save_fig(\"mobile_money_classification_scatterplot\")"
   ]
  },
  {
   "cell_type": "code",
   "execution_count": 89,
   "metadata": {},
   "outputs": [
    {
     "data": {
      "text/html": [
       "<div>\n",
       "<style scoped>\n",
       "    .dataframe tbody tr th:only-of-type {\n",
       "        vertical-align: middle;\n",
       "    }\n",
       "\n",
       "    .dataframe tbody tr th {\n",
       "        vertical-align: top;\n",
       "    }\n",
       "\n",
       "    .dataframe thead th {\n",
       "        text-align: right;\n",
       "    }\n",
       "</style>\n",
       "<table border=\"1\" class=\"dataframe\">\n",
       "  <thead>\n",
       "    <tr style=\"text-align: right;\">\n",
       "      <th></th>\n",
       "      <th>Q2</th>\n",
       "      <th>Q3</th>\n",
       "      <th>Q4</th>\n",
       "      <th>Q5</th>\n",
       "      <th>Q6</th>\n",
       "      <th>Q7</th>\n",
       "      <th>Q8_1</th>\n",
       "      <th>Q8_2</th>\n",
       "      <th>Q8_3</th>\n",
       "      <th>Q8_4</th>\n",
       "      <th>...</th>\n",
       "      <th>Q13</th>\n",
       "      <th>Q14</th>\n",
       "      <th>Q15</th>\n",
       "      <th>Q16</th>\n",
       "      <th>Q17</th>\n",
       "      <th>Q18</th>\n",
       "      <th>Q19</th>\n",
       "      <th>Latitude</th>\n",
       "      <th>Longitude</th>\n",
       "      <th>mobile_money_classification</th>\n",
       "    </tr>\n",
       "  </thead>\n",
       "  <tbody>\n",
       "    <tr>\n",
       "      <th>count</th>\n",
       "      <td>5923.000000</td>\n",
       "      <td>5923.000000</td>\n",
       "      <td>5923.000000</td>\n",
       "      <td>5923.000000</td>\n",
       "      <td>5923.000000</td>\n",
       "      <td>5923.000000</td>\n",
       "      <td>5923.000000</td>\n",
       "      <td>5923.000000</td>\n",
       "      <td>5923.000000</td>\n",
       "      <td>5923.000000</td>\n",
       "      <td>...</td>\n",
       "      <td>5923.000000</td>\n",
       "      <td>5923.000000</td>\n",
       "      <td>5923.000000</td>\n",
       "      <td>5923.000000</td>\n",
       "      <td>5923.000000</td>\n",
       "      <td>5923.000000</td>\n",
       "      <td>5923.000000</td>\n",
       "      <td>5923.000000</td>\n",
       "      <td>5923.000000</td>\n",
       "      <td>5923.000000</td>\n",
       "    </tr>\n",
       "    <tr>\n",
       "      <th>mean</th>\n",
       "      <td>1.563228</td>\n",
       "      <td>1.788452</td>\n",
       "      <td>3.048118</td>\n",
       "      <td>2.554618</td>\n",
       "      <td>1.838933</td>\n",
       "      <td>1.397940</td>\n",
       "      <td>0.061287</td>\n",
       "      <td>0.631099</td>\n",
       "      <td>0.058754</td>\n",
       "      <td>0.336147</td>\n",
       "      <td>...</td>\n",
       "      <td>0.402161</td>\n",
       "      <td>1.623502</td>\n",
       "      <td>0.755529</td>\n",
       "      <td>1.950025</td>\n",
       "      <td>-0.442175</td>\n",
       "      <td>1.861219</td>\n",
       "      <td>3.171704</td>\n",
       "      <td>-6.015160</td>\n",
       "      <td>35.342245</td>\n",
       "      <td>1.794867</td>\n",
       "    </tr>\n",
       "    <tr>\n",
       "      <th>std</th>\n",
       "      <td>0.496028</td>\n",
       "      <td>1.165322</td>\n",
       "      <td>1.550309</td>\n",
       "      <td>1.533433</td>\n",
       "      <td>0.367624</td>\n",
       "      <td>0.489514</td>\n",
       "      <td>0.239875</td>\n",
       "      <td>0.482548</td>\n",
       "      <td>0.235184</td>\n",
       "      <td>0.472430</td>\n",
       "      <td>...</td>\n",
       "      <td>2.274109</td>\n",
       "      <td>0.484548</td>\n",
       "      <td>2.418967</td>\n",
       "      <td>1.577622</td>\n",
       "      <td>1.477339</td>\n",
       "      <td>1.351193</td>\n",
       "      <td>1.311394</td>\n",
       "      <td>2.723232</td>\n",
       "      <td>2.912589</td>\n",
       "      <td>1.196906</td>\n",
       "    </tr>\n",
       "    <tr>\n",
       "      <th>min</th>\n",
       "      <td>1.000000</td>\n",
       "      <td>1.000000</td>\n",
       "      <td>1.000000</td>\n",
       "      <td>1.000000</td>\n",
       "      <td>1.000000</td>\n",
       "      <td>1.000000</td>\n",
       "      <td>0.000000</td>\n",
       "      <td>0.000000</td>\n",
       "      <td>0.000000</td>\n",
       "      <td>0.000000</td>\n",
       "      <td>...</td>\n",
       "      <td>-1.000000</td>\n",
       "      <td>1.000000</td>\n",
       "      <td>-1.000000</td>\n",
       "      <td>1.000000</td>\n",
       "      <td>-1.000000</td>\n",
       "      <td>1.000000</td>\n",
       "      <td>1.000000</td>\n",
       "      <td>-11.467463</td>\n",
       "      <td>29.639578</td>\n",
       "      <td>0.000000</td>\n",
       "    </tr>\n",
       "    <tr>\n",
       "      <th>25%</th>\n",
       "      <td>1.000000</td>\n",
       "      <td>1.000000</td>\n",
       "      <td>2.000000</td>\n",
       "      <td>1.000000</td>\n",
       "      <td>2.000000</td>\n",
       "      <td>1.000000</td>\n",
       "      <td>0.000000</td>\n",
       "      <td>0.000000</td>\n",
       "      <td>0.000000</td>\n",
       "      <td>0.000000</td>\n",
       "      <td>...</td>\n",
       "      <td>-1.000000</td>\n",
       "      <td>1.000000</td>\n",
       "      <td>-1.000000</td>\n",
       "      <td>1.000000</td>\n",
       "      <td>-1.000000</td>\n",
       "      <td>1.000000</td>\n",
       "      <td>2.000000</td>\n",
       "      <td>-8.252787</td>\n",
       "      <td>32.922746</td>\n",
       "      <td>1.000000</td>\n",
       "    </tr>\n",
       "    <tr>\n",
       "      <th>50%</th>\n",
       "      <td>2.000000</td>\n",
       "      <td>1.000000</td>\n",
       "      <td>3.000000</td>\n",
       "      <td>3.000000</td>\n",
       "      <td>2.000000</td>\n",
       "      <td>1.000000</td>\n",
       "      <td>0.000000</td>\n",
       "      <td>1.000000</td>\n",
       "      <td>0.000000</td>\n",
       "      <td>0.000000</td>\n",
       "      <td>...</td>\n",
       "      <td>-1.000000</td>\n",
       "      <td>2.000000</td>\n",
       "      <td>-1.000000</td>\n",
       "      <td>1.000000</td>\n",
       "      <td>-1.000000</td>\n",
       "      <td>1.000000</td>\n",
       "      <td>4.000000</td>\n",
       "      <td>-6.044494</td>\n",
       "      <td>35.031430</td>\n",
       "      <td>2.000000</td>\n",
       "    </tr>\n",
       "    <tr>\n",
       "      <th>75%</th>\n",
       "      <td>2.000000</td>\n",
       "      <td>3.000000</td>\n",
       "      <td>3.000000</td>\n",
       "      <td>4.000000</td>\n",
       "      <td>2.000000</td>\n",
       "      <td>2.000000</td>\n",
       "      <td>0.000000</td>\n",
       "      <td>1.000000</td>\n",
       "      <td>0.000000</td>\n",
       "      <td>1.000000</td>\n",
       "      <td>...</td>\n",
       "      <td>2.000000</td>\n",
       "      <td>2.000000</td>\n",
       "      <td>3.000000</td>\n",
       "      <td>3.000000</td>\n",
       "      <td>-1.000000</td>\n",
       "      <td>4.000000</td>\n",
       "      <td>4.000000</td>\n",
       "      <td>-3.481024</td>\n",
       "      <td>38.385296</td>\n",
       "      <td>3.000000</td>\n",
       "    </tr>\n",
       "    <tr>\n",
       "      <th>max</th>\n",
       "      <td>2.000000</td>\n",
       "      <td>4.000000</td>\n",
       "      <td>8.000000</td>\n",
       "      <td>6.000000</td>\n",
       "      <td>2.000000</td>\n",
       "      <td>2.000000</td>\n",
       "      <td>1.000000</td>\n",
       "      <td>1.000000</td>\n",
       "      <td>1.000000</td>\n",
       "      <td>1.000000</td>\n",
       "      <td>...</td>\n",
       "      <td>6.000000</td>\n",
       "      <td>2.000000</td>\n",
       "      <td>6.000000</td>\n",
       "      <td>5.000000</td>\n",
       "      <td>5.000000</td>\n",
       "      <td>5.000000</td>\n",
       "      <td>5.000000</td>\n",
       "      <td>-1.084000</td>\n",
       "      <td>40.258744</td>\n",
       "      <td>3.000000</td>\n",
       "    </tr>\n",
       "  </tbody>\n",
       "</table>\n",
       "<p>8 rows × 31 columns</p>\n",
       "</div>"
      ],
      "text/plain": [
       "                Q2           Q3           Q4           Q5           Q6  \\\n",
       "count  5923.000000  5923.000000  5923.000000  5923.000000  5923.000000   \n",
       "mean      1.563228     1.788452     3.048118     2.554618     1.838933   \n",
       "std       0.496028     1.165322     1.550309     1.533433     0.367624   \n",
       "min       1.000000     1.000000     1.000000     1.000000     1.000000   \n",
       "25%       1.000000     1.000000     2.000000     1.000000     2.000000   \n",
       "50%       2.000000     1.000000     3.000000     3.000000     2.000000   \n",
       "75%       2.000000     3.000000     3.000000     4.000000     2.000000   \n",
       "max       2.000000     4.000000     8.000000     6.000000     2.000000   \n",
       "\n",
       "                Q7         Q8_1         Q8_2         Q8_3         Q8_4  ...  \\\n",
       "count  5923.000000  5923.000000  5923.000000  5923.000000  5923.000000  ...   \n",
       "mean      1.397940     0.061287     0.631099     0.058754     0.336147  ...   \n",
       "std       0.489514     0.239875     0.482548     0.235184     0.472430  ...   \n",
       "min       1.000000     0.000000     0.000000     0.000000     0.000000  ...   \n",
       "25%       1.000000     0.000000     0.000000     0.000000     0.000000  ...   \n",
       "50%       1.000000     0.000000     1.000000     0.000000     0.000000  ...   \n",
       "75%       2.000000     0.000000     1.000000     0.000000     1.000000  ...   \n",
       "max       2.000000     1.000000     1.000000     1.000000     1.000000  ...   \n",
       "\n",
       "               Q13          Q14          Q15          Q16          Q17  \\\n",
       "count  5923.000000  5923.000000  5923.000000  5923.000000  5923.000000   \n",
       "mean      0.402161     1.623502     0.755529     1.950025    -0.442175   \n",
       "std       2.274109     0.484548     2.418967     1.577622     1.477339   \n",
       "min      -1.000000     1.000000    -1.000000     1.000000    -1.000000   \n",
       "25%      -1.000000     1.000000    -1.000000     1.000000    -1.000000   \n",
       "50%      -1.000000     2.000000    -1.000000     1.000000    -1.000000   \n",
       "75%       2.000000     2.000000     3.000000     3.000000    -1.000000   \n",
       "max       6.000000     2.000000     6.000000     5.000000     5.000000   \n",
       "\n",
       "               Q18          Q19     Latitude    Longitude  \\\n",
       "count  5923.000000  5923.000000  5923.000000  5923.000000   \n",
       "mean      1.861219     3.171704    -6.015160    35.342245   \n",
       "std       1.351193     1.311394     2.723232     2.912589   \n",
       "min       1.000000     1.000000   -11.467463    29.639578   \n",
       "25%       1.000000     2.000000    -8.252787    32.922746   \n",
       "50%       1.000000     4.000000    -6.044494    35.031430   \n",
       "75%       4.000000     4.000000    -3.481024    38.385296   \n",
       "max       5.000000     5.000000    -1.084000    40.258744   \n",
       "\n",
       "       mobile_money_classification  \n",
       "count                  5923.000000  \n",
       "mean                      1.794867  \n",
       "std                       1.196906  \n",
       "min                       0.000000  \n",
       "25%                       1.000000  \n",
       "50%                       2.000000  \n",
       "75%                       3.000000  \n",
       "max                       3.000000  \n",
       "\n",
       "[8 rows x 31 columns]"
      ]
     },
     "execution_count": 89,
     "metadata": {},
     "output_type": "execute_result"
    }
   ],
   "source": [
    "data.describe()"
   ]
  },
  {
   "cell_type": "markdown",
   "metadata": {},
   "source": [
    "### Prepare the data for Machine Learning algorithms"
   ]
  },
  {
   "cell_type": "markdown",
   "metadata": {},
   "source": [
    "Activity: write a function to spilt data into train and test set"
   ]
  },
  {
   "cell_type": "code",
   "execution_count": 95,
   "metadata": {},
   "outputs": [],
   "source": [
    "def split_train_test(X, y,  test_ratio=0.2):\n",
    "    shuffled_indices = np.random.permutation(len(data))\n",
    "    test_set_size = int(len(X) * test_ratio)\n",
    "    test_set = shuffled_indices[:test_set_size]\n",
    "    train_set = shuffled_indices[test_set_size:]\n",
    "    \n",
    "    X_train, X_test = X.loc[train_set], X.loc[test_set]\n",
    "    y_train, y_test = y.loc[train_set], y.loc[test_set]\n",
    "    \n",
    "    \n",
    "    return X_train, X_test, y_train, y_test"
   ]
  },
  {
   "cell_type": "code",
   "execution_count": 96,
   "metadata": {},
   "outputs": [],
   "source": [
    "X_train, X_test, y_train, y_test = split_train_test(data, target)"
   ]
  },
  {
   "cell_type": "code",
   "execution_count": 99,
   "metadata": {},
   "outputs": [
    {
     "name": "stdout",
     "output_type": "stream",
     "text": [
      "Train ratio: 0.8; test raio: 0.2\n"
     ]
    }
   ],
   "source": [
    "print(f\"Train ratio: {round(len(X_train)/len(data), 2)}; test raio: {np.round(len(X_test)/len(data), 2)}\")"
   ]
  },
  {
   "cell_type": "code",
   "execution_count": 101,
   "metadata": {},
   "outputs": [],
   "source": [
    "from sklearn.pipeline import Pipeline\n",
    "from sklearn.preprocessing import StandardScaler, OrdinalEncoder\n",
    "from sklearn.compose import ColumnTransformer"
   ]
  },
  {
   "cell_type": "code",
   "execution_count": 104,
   "metadata": {},
   "outputs": [],
   "source": [
    "#pipeline to transform categorical and numerical features\n",
    "\n",
    "def get_columns_types(df):\n",
    "    #obtain numeric and categorical features\n",
    "    numeric_column=list(df.select_dtypes(include=['float64']).columns)\n",
    "    int_column=list(df.select_dtypes(include=['int64']).columns)\n",
    "    return int_column, numeric_column\n",
    "\n",
    "def data_pipeline(numeric_feature, categ_feature):\n",
    "   \n",
    "    numeric_pipeline = Pipeline([\n",
    "        ('scale', StandardScaler())\n",
    "    ])\n",
    "\n",
    "    categ_pipeline = Pipeline([\n",
    "        ('encode', OrdinalEncoder())\n",
    "    ])\n",
    "\n",
    "    preprocess_pipeline = ColumnTransformer([\n",
    "        ('numeric', numeric_pipeline, numeric_feature),\n",
    "        ('categ', categ_pipeline, categ_feature)\n",
    "    ])\n",
    "    \n",
    "    return preprocess_pipeline"
   ]
  },
  {
   "cell_type": "code",
   "execution_count": 106,
   "metadata": {},
   "outputs": [],
   "source": [
    "categ_feature, numeric_feature = get_columns_types(data)\n",
    "data_pipeline=data_pipeline(numeric_feature, categ_feature)"
   ]
  },
  {
   "cell_type": "code",
   "execution_count": 107,
   "metadata": {},
   "outputs": [
    {
     "data": {
      "text/plain": [
       "array([[ 0.9675612 ,  0.44541244,  1.        , ...,  0.        ,\n",
       "         3.        ,  3.        ],\n",
       "       [-1.57266879,  1.29826231,  1.        , ...,  0.        ,\n",
       "         3.        ,  1.        ],\n",
       "       [ 1.27857117, -1.16307979,  0.        , ...,  0.        ,\n",
       "         0.        ,  1.        ],\n",
       "       ...,\n",
       "       [-0.81082645, -0.16654139,  1.        , ...,  0.        ,\n",
       "         3.        ,  1.        ],\n",
       "       [-1.75067683,  1.46058199,  1.        , ...,  3.        ,\n",
       "         3.        ,  0.        ],\n",
       "       [ 0.05738747, -0.06806852,  1.        , ...,  0.        ,\n",
       "         3.        ,  1.        ]])"
      ]
     },
     "execution_count": 107,
     "metadata": {},
     "output_type": "execute_result"
    }
   ],
   "source": [
    "data_pipeline.fit_transform(X_test)"
   ]
  },
  {
   "cell_type": "markdown",
   "metadata": {},
   "source": [
    "## Select and train a model "
   ]
  },
  {
   "cell_type": "code",
   "execution_count": 108,
   "metadata": {},
   "outputs": [],
   "source": [
    "from sklearn.linear_model import LinearRegression\n",
    "\n",
    "lin_reg = LinearRegression()\n",
    "clf_lg = Pipeline(steps=[('preprocessor', data_pipeline), ('classifier', lin_reg)])"
   ]
  },
  {
   "cell_type": "code",
   "execution_count": 110,
   "metadata": {},
   "outputs": [],
   "source": [
    "clf=clf_lg.fit(X_train, y_train)"
   ]
  },
  {
   "cell_type": "markdown",
   "metadata": {},
   "source": [
    "### Visualize and analyse predictions"
   ]
  },
  {
   "cell_type": "markdown",
   "metadata": {},
   "source": [
    "Question: what metrics should we use to evaluate our model"
   ]
  },
  {
   "cell_type": "code",
   "execution_count": 123,
   "metadata": {},
   "outputs": [],
   "source": [
    "from sklearn.metrics import mean_absolute_error"
   ]
  },
  {
   "cell_type": "code",
   "execution_count": 124,
   "metadata": {},
   "outputs": [],
   "source": [
    "y_pred_train = clf.predict(X_train)\n",
    "y_pred_test  = clf.predict(X_test)"
   ]
  },
  {
   "cell_type": "code",
   "execution_count": 127,
   "metadata": {},
   "outputs": [],
   "source": [
    "def get_results(pred_test, true_test, pred_train, true_train):\n",
    "    \n",
    "    mse_test = np.sqrt(mean_squared_error(true_test, pred_test))\n",
    "    mse_train = np.sqrt(mean_squared_error(true_train, pred_train))\n",
    "   \n",
    "    #mcc=matthews_corrcoef(y_pred=pred, y_true=label)\n",
    "    results=pd.DataFrame.from_dict({\"Train\":round(mse_train, 2), \"Test\":round(mse_test,2)}, orient='index', columns=[\"Results\"])\n",
    "    return results"
   ]
  },
  {
   "cell_type": "code",
   "execution_count": 128,
   "metadata": {},
   "outputs": [
    {
     "data": {
      "text/html": [
       "<div>\n",
       "<style scoped>\n",
       "    .dataframe tbody tr th:only-of-type {\n",
       "        vertical-align: middle;\n",
       "    }\n",
       "\n",
       "    .dataframe tbody tr th {\n",
       "        vertical-align: top;\n",
       "    }\n",
       "\n",
       "    .dataframe thead th {\n",
       "        text-align: right;\n",
       "    }\n",
       "</style>\n",
       "<table border=\"1\" class=\"dataframe\">\n",
       "  <thead>\n",
       "    <tr style=\"text-align: right;\">\n",
       "      <th></th>\n",
       "      <th>Results</th>\n",
       "    </tr>\n",
       "  </thead>\n",
       "  <tbody>\n",
       "    <tr>\n",
       "      <th>Train</th>\n",
       "      <td>13.61</td>\n",
       "    </tr>\n",
       "    <tr>\n",
       "      <th>Test</th>\n",
       "      <td>13.94</td>\n",
       "    </tr>\n",
       "  </tbody>\n",
       "</table>\n",
       "</div>"
      ],
      "text/plain": [
       "       Results\n",
       "Train    13.61\n",
       "Test     13.94"
      ]
     },
     "execution_count": 128,
     "metadata": {},
     "output_type": "execute_result"
    }
   ],
   "source": [
    "get_results(y_pred_test, y_test, y_pred_train, y_train)"
   ]
  },
  {
   "cell_type": "markdown",
   "metadata": {},
   "source": [
    "Compare against the actual values:"
   ]
  },
  {
   "cell_type": "code",
   "execution_count": 161,
   "metadata": {},
   "outputs": [
    {
     "data": {
      "text/plain": [
       "Text(0, 0.5, 'Age Values')"
      ]
     },
     "execution_count": 161,
     "metadata": {},
     "output_type": "execute_result"
    },
    {
     "data": {
      "image/png": "[encoded data removed]",
      "text/plain": [
       "<Figure size 432x288 with 1 Axes>"
      ]
     },
     "metadata": {
      "needs_background": "light"
     },
     "output_type": "display_data"
    }
   ],
   "source": [
    "plt.scatter(np.linspace(1,len(y_test.values[:100]),len(y_test.values[:100])), y_test.values[:100], color ='b',label=\"Actual\", s=20)\n",
    "plt.scatter(np.linspace(1,len(y_test.values[:100]),len(y_test.values[:100])), y_pred_test[:100], color ='g',label=\"Pred\", s=20)\n",
    "plt.legend(loc='best')\n",
    "plt.title('Model Visualization')\n",
    "plt.xlabel('Indexes')\n",
    "plt.ylabel('Age Values')"
   ]
  },
  {
   "cell_type": "markdown",
   "metadata": {},
   "source": [
    "## Activity Try diffeent regression model and report your score"
   ]
  },
  {
   "cell_type": "markdown",
   "metadata": {},
   "source": [
    "# Fine-tune your model"
   ]
  },
  {
   "cell_type": "code",
   "execution_count": 40,
   "metadata": {},
   "outputs": [],
   "source": [
    "from sklearn.model_selection import cross_val_score\n",
    "\n",
    "scores = cross_val_score(tree_reg, train_set_features, train_set_labels,\n",
    "                         scoring=\"neg_mean_squared_error\", cv=10)\n",
    "tree_rmse_scores = np.sqrt(-scores)"
   ]
  },
  {
   "cell_type": "code",
   "execution_count": 41,
   "metadata": {},
   "outputs": [
    {
     "name": "stdout",
     "output_type": "stream",
     "text": [
      "Scores: [15.05664183 15.92908362 15.47895737 16.06738366 15.93402969 15.88571154\n",
      " 16.17902457 16.93733611 16.09543657 15.90456059]\n",
      "Mean: 15.946816555750848\n",
      "Standard deviation: 0.4570530049190876\n"
     ]
    }
   ],
   "source": [
    "def display_scores(scores):\n",
    "    print(\"Scores:\", scores)\n",
    "    print(\"Mean:\", scores.mean())\n",
    "    print(\"Standard deviation:\", scores.std())\n",
    "\n",
    "display_scores(tree_rmse_scores)"
   ]
  },
  {
   "cell_type": "code",
   "execution_count": 42,
   "metadata": {},
   "outputs": [
    {
     "name": "stdout",
     "output_type": "stream",
     "text": [
      "Scores: [13.30912669 14.02188636 13.73435028 13.51158217 13.20118684 14.22581347\n",
      " 14.00589749 14.14499467 13.7169889  14.06749701]\n",
      "Mean: 13.793932386831901\n",
      "Standard deviation: 0.3401575566872665\n"
     ]
    }
   ],
   "source": [
    "lin_scores = cross_val_score(lin_reg, train_set_features, train_set_labels,\n",
    "                             scoring=\"neg_mean_squared_error\", cv=10)\n",
    "lin_rmse_scores = np.sqrt(-lin_scores)\n",
    "display_scores(lin_rmse_scores)"
   ]
  },
  {
   "cell_type": "markdown",
   "metadata": {},
   "source": [
    "**Note**: we specify `n_estimators=10` to avoid a warning about the fact that the default value is going to change to 100 in Scikit-Learn 0.22."
   ]
  },
  {
   "cell_type": "code",
   "execution_count": 43,
   "metadata": {},
   "outputs": [
    {
     "data": {
      "text/plain": [
       "RandomForestRegressor(bootstrap=True, criterion='mse', max_depth=None,\n",
       "                      max_features='auto', max_leaf_nodes=None,\n",
       "                      min_impurity_decrease=0.0, min_impurity_split=None,\n",
       "                      min_samples_leaf=1, min_samples_split=2,\n",
       "                      min_weight_fraction_leaf=0.0, n_estimators=10,\n",
       "                      n_jobs=None, oob_score=False, random_state=42, verbose=0,\n",
       "                      warm_start=False)"
      ]
     },
     "execution_count": 43,
     "metadata": {},
     "output_type": "execute_result"
    }
   ],
   "source": [
    "from sklearn.ensemble import RandomForestRegressor\n",
    "\n",
    "forest_reg = RandomForestRegressor(n_estimators=10, random_state=42)\n",
    "forest_reg.fit(train_set_features, train_set_labels)"
   ]
  },
  {
   "cell_type": "code",
   "execution_count": 44,
   "metadata": {},
   "outputs": [
    {
     "data": {
      "text/plain": [
       "12.958498694764097"
      ]
     },
     "execution_count": 44,
     "metadata": {},
     "output_type": "execute_result"
    }
   ],
   "source": [
    "rf_predictions = forest_reg.predict(test_set_features)\n",
    "forest_mse = mean_squared_error(test_set_labels, rf_predictions)\n",
    "forest_rmse = np.sqrt(forest_mse)\n",
    "forest_rmse"
   ]
  },
  {
   "cell_type": "code",
   "execution_count": 45,
   "metadata": {},
   "outputs": [
    {
     "name": "stdout",
     "output_type": "stream",
     "text": [
      "Scores: [12.31292148 13.137037   12.65192161 12.1169783  12.40914936 13.07093616\n",
      " 13.30025329 13.03963555 13.40210028 12.56191466]\n",
      "Mean: 12.800284768902063\n",
      "Standard deviation: 0.423360723165588\n"
     ]
    }
   ],
   "source": [
    "from sklearn.model_selection import cross_val_score\n",
    "\n",
    "forest_scores = cross_val_score(forest_reg, train_set_features, train_set_labels,\n",
    "                                scoring=\"neg_mean_squared_error\", cv=10)\n",
    "forest_rmse_scores = np.sqrt(-forest_scores)\n",
    "display_scores(forest_rmse_scores)"
   ]
  },
  {
   "cell_type": "code",
   "execution_count": 46,
   "metadata": {},
   "outputs": [
    {
     "data": {
      "text/plain": [
       "count    10.000000\n",
       "mean     13.793932\n",
       "std       0.358558\n",
       "min      13.201187\n",
       "25%      13.562934\n",
       "50%      13.870124\n",
       "75%      14.056094\n",
       "max      14.225813\n",
       "dtype: float64"
      ]
     },
     "execution_count": 46,
     "metadata": {},
     "output_type": "execute_result"
    }
   ],
   "source": [
    "scores = cross_val_score(lin_reg, train_set_features, train_set_labels, scoring=\"neg_mean_squared_error\", cv=10)\n",
    "pd.Series(np.sqrt(-scores)).describe()"
   ]
  },
  {
   "cell_type": "code",
   "execution_count": 47,
   "metadata": {},
   "outputs": [
    {
     "data": {
      "text/plain": [
       "13.8309292921326"
      ]
     },
     "execution_count": 47,
     "metadata": {},
     "output_type": "execute_result"
    }
   ],
   "source": [
    "from sklearn.svm import SVR\n",
    "\n",
    "svm_reg = SVR(kernel=\"linear\")\n",
    "svm_reg.fit(train_set_features, train_set_labels)\n",
    "svm_predictions = svm_reg.predict(test_set_features)\n",
    "svm_mse = mean_squared_error(test_set_labels, svm_predictions)\n",
    "svm_rmse = np.sqrt(svm_mse)\n",
    "svm_rmse"
   ]
  },
  {
   "cell_type": "code",
   "execution_count": 48,
   "metadata": {},
   "outputs": [
    {
     "data": {
      "text/plain": [
       "GridSearchCV(cv=5, error_score='raise-deprecating',\n",
       "             estimator=RandomForestRegressor(bootstrap=True, criterion='mse',\n",
       "                                             max_depth=None,\n",
       "                                             max_features='auto',\n",
       "                                             max_leaf_nodes=None,\n",
       "                                             min_impurity_decrease=0.0,\n",
       "                                             min_impurity_split=None,\n",
       "                                             min_samples_leaf=1,\n",
       "                                             min_samples_split=2,\n",
       "                                             min_weight_fraction_leaf=0.0,\n",
       "                                             n_estimators='warn', n_jobs=None,\n",
       "                                             oob_score=False, random_state=42,\n",
       "                                             verbose=0, warm_start=False),\n",
       "             iid='warn', n_jobs=None,\n",
       "             param_grid=[{'max_features': [2, 4, 6, 8],\n",
       "                          'n_estimators': [3, 10, 30]},\n",
       "                         {'bootstrap': [False], 'max_features': [2, 3, 4],\n",
       "                          'n_estimators': [3, 10]}],\n",
       "             pre_dispatch='2*n_jobs', refit=True, return_train_score=True,\n",
       "             scoring='neg_mean_squared_error', verbose=0)"
      ]
     },
     "execution_count": 48,
     "metadata": {},
     "output_type": "execute_result"
    }
   ],
   "source": [
    "from sklearn.model_selection import GridSearchCV\n",
    "\n",
    "param_grid = [\n",
    "    # try 12 (3×4) combinations of hyperparameters\n",
    "    {'n_estimators': [3, 10, 30], 'max_features': [2, 4, 6, 8]},\n",
    "    # then try 6 (2×3) combinations with bootstrap set as False\n",
    "    {'bootstrap': [False], 'n_estimators': [3, 10], 'max_features': [2, 3, 4]},\n",
    "  ]\n",
    "\n",
    "forest_reg = RandomForestRegressor(random_state=42)\n",
    "# train across 5 folds, that's a total of (12+6)*5=90 rounds of training \n",
    "grid_search = GridSearchCV(forest_reg, param_grid, cv=5,\n",
    "                           scoring='neg_mean_squared_error', return_train_score=True)\n",
    "grid_search.fit(train_set_features, train_set_labels)"
   ]
  },
  {
   "cell_type": "markdown",
   "metadata": {},
   "source": [
    "The best hyperparameter combination found:"
   ]
  },
  {
   "cell_type": "code",
   "execution_count": 49,
   "metadata": {},
   "outputs": [
    {
     "data": {
      "text/plain": [
       "{'max_features': 8, 'n_estimators': 30}"
      ]
     },
     "execution_count": 49,
     "metadata": {},
     "output_type": "execute_result"
    }
   ],
   "source": [
    "grid_search.best_params_"
   ]
  },
  {
   "cell_type": "code",
   "execution_count": 50,
   "metadata": {},
   "outputs": [
    {
     "data": {
      "text/plain": [
       "RandomForestRegressor(bootstrap=True, criterion='mse', max_depth=None,\n",
       "                      max_features=8, max_leaf_nodes=None,\n",
       "                      min_impurity_decrease=0.0, min_impurity_split=None,\n",
       "                      min_samples_leaf=1, min_samples_split=2,\n",
       "                      min_weight_fraction_leaf=0.0, n_estimators=30,\n",
       "                      n_jobs=None, oob_score=False, random_state=42, verbose=0,\n",
       "                      warm_start=False)"
      ]
     },
     "execution_count": 50,
     "metadata": {},
     "output_type": "execute_result"
    }
   ],
   "source": [
    "grid_search.best_estimator_"
   ]
  },
  {
   "cell_type": "markdown",
   "metadata": {},
   "source": [
    "Let's look at the score of each hyperparameter combination tested during the grid search:"
   ]
  },
  {
   "cell_type": "code",
   "execution_count": 51,
   "metadata": {},
   "outputs": [
    {
     "name": "stdout",
     "output_type": "stream",
     "text": [
      "13.970589386252088 {'max_features': 2, 'n_estimators': 3}\n",
      "12.727822912072616 {'max_features': 2, 'n_estimators': 10}\n",
      "12.39252609964998 {'max_features': 2, 'n_estimators': 30}\n",
      "13.754111721479536 {'max_features': 4, 'n_estimators': 3}\n",
      "12.718535731418582 {'max_features': 4, 'n_estimators': 10}\n",
      "12.32961014775521 {'max_features': 4, 'n_estimators': 30}\n",
      "13.743362991429667 {'max_features': 6, 'n_estimators': 3}\n",
      "12.61407051457085 {'max_features': 6, 'n_estimators': 10}\n",
      "12.248327027552971 {'max_features': 6, 'n_estimators': 30}\n",
      "13.66769267832825 {'max_features': 8, 'n_estimators': 3}\n",
      "12.56142825205576 {'max_features': 8, 'n_estimators': 10}\n",
      "12.231634755771791 {'max_features': 8, 'n_estimators': 30}\n",
      "13.985216621818639 {'bootstrap': False, 'max_features': 2, 'n_estimators': 3}\n",
      "13.032008264742498 {'bootstrap': False, 'max_features': 2, 'n_estimators': 10}\n",
      "13.886310292493178 {'bootstrap': False, 'max_features': 3, 'n_estimators': 3}\n",
      "12.95249463388926 {'bootstrap': False, 'max_features': 3, 'n_estimators': 10}\n",
      "13.811747416661516 {'bootstrap': False, 'max_features': 4, 'n_estimators': 3}\n",
      "12.922053087341808 {'bootstrap': False, 'max_features': 4, 'n_estimators': 10}\n"
     ]
    }
   ],
   "source": [
    "cvres = grid_search.cv_results_\n",
    "for mean_score, params in zip(cvres[\"mean_test_score\"], cvres[\"params\"]):\n",
    "    print(np.sqrt(-mean_score), params)"
   ]
  },
  {
   "cell_type": "code",
   "execution_count": 52,
   "metadata": {},
   "outputs": [
    {
     "data": {
      "text/html": [
       "<div>\n",
       "<style scoped>\n",
       "    .dataframe tbody tr th:only-of-type {\n",
       "        vertical-align: middle;\n",
       "    }\n",
       "\n",
       "    .dataframe tbody tr th {\n",
       "        vertical-align: top;\n",
       "    }\n",
       "\n",
       "    .dataframe thead th {\n",
       "        text-align: right;\n",
       "    }\n",
       "</style>\n",
       "<table border=\"1\" class=\"dataframe\">\n",
       "  <thead>\n",
       "    <tr style=\"text-align: right;\">\n",
       "      <th></th>\n",
       "      <th>mean_fit_time</th>\n",
       "      <th>std_fit_time</th>\n",
       "      <th>mean_score_time</th>\n",
       "      <th>std_score_time</th>\n",
       "      <th>param_max_features</th>\n",
       "      <th>param_n_estimators</th>\n",
       "      <th>param_bootstrap</th>\n",
       "      <th>params</th>\n",
       "      <th>split0_test_score</th>\n",
       "      <th>split1_test_score</th>\n",
       "      <th>...</th>\n",
       "      <th>mean_test_score</th>\n",
       "      <th>std_test_score</th>\n",
       "      <th>rank_test_score</th>\n",
       "      <th>split0_train_score</th>\n",
       "      <th>split1_train_score</th>\n",
       "      <th>split2_train_score</th>\n",
       "      <th>split3_train_score</th>\n",
       "      <th>split4_train_score</th>\n",
       "      <th>mean_train_score</th>\n",
       "      <th>std_train_score</th>\n",
       "    </tr>\n",
       "  </thead>\n",
       "  <tbody>\n",
       "    <tr>\n",
       "      <th>0</th>\n",
       "      <td>0.010028</td>\n",
       "      <td>0.001552</td>\n",
       "      <td>0.001635</td>\n",
       "      <td>0.000201</td>\n",
       "      <td>2</td>\n",
       "      <td>3</td>\n",
       "      <td>NaN</td>\n",
       "      <td>{'max_features': 2, 'n_estimators': 3}</td>\n",
       "      <td>-201.324814</td>\n",
       "      <td>-192.742402</td>\n",
       "      <td>...</td>\n",
       "      <td>-195.177368</td>\n",
       "      <td>3.619553</td>\n",
       "      <td>17</td>\n",
       "      <td>-59.206476</td>\n",
       "      <td>-62.113348</td>\n",
       "      <td>-64.622003</td>\n",
       "      <td>-59.994880</td>\n",
       "      <td>-59.842798</td>\n",
       "      <td>-61.155901</td>\n",
       "      <td>1.990127</td>\n",
       "    </tr>\n",
       "    <tr>\n",
       "      <th>1</th>\n",
       "      <td>0.022804</td>\n",
       "      <td>0.000978</td>\n",
       "      <td>0.002483</td>\n",
       "      <td>0.000139</td>\n",
       "      <td>2</td>\n",
       "      <td>10</td>\n",
       "      <td>NaN</td>\n",
       "      <td>{'max_features': 2, 'n_estimators': 10}</td>\n",
       "      <td>-164.307068</td>\n",
       "      <td>-155.747298</td>\n",
       "      <td>...</td>\n",
       "      <td>-161.997476</td>\n",
       "      <td>4.511204</td>\n",
       "      <td>8</td>\n",
       "      <td>-40.428128</td>\n",
       "      <td>-41.637689</td>\n",
       "      <td>-42.409087</td>\n",
       "      <td>-40.277038</td>\n",
       "      <td>-39.700760</td>\n",
       "      <td>-40.890540</td>\n",
       "      <td>0.986915</td>\n",
       "    </tr>\n",
       "    <tr>\n",
       "      <th>2</th>\n",
       "      <td>0.063651</td>\n",
       "      <td>0.001258</td>\n",
       "      <td>0.005933</td>\n",
       "      <td>0.000074</td>\n",
       "      <td>2</td>\n",
       "      <td>30</td>\n",
       "      <td>NaN</td>\n",
       "      <td>{'max_features': 2, 'n_estimators': 30}</td>\n",
       "      <td>-153.200140</td>\n",
       "      <td>-146.233581</td>\n",
       "      <td>...</td>\n",
       "      <td>-153.574703</td>\n",
       "      <td>5.972026</td>\n",
       "      <td>4</td>\n",
       "      <td>-34.947619</td>\n",
       "      <td>-35.856318</td>\n",
       "      <td>-35.757122</td>\n",
       "      <td>-34.750909</td>\n",
       "      <td>-34.996578</td>\n",
       "      <td>-35.261709</td>\n",
       "      <td>0.453620</td>\n",
       "    </tr>\n",
       "    <tr>\n",
       "      <th>3</th>\n",
       "      <td>0.008692</td>\n",
       "      <td>0.000154</td>\n",
       "      <td>0.001206</td>\n",
       "      <td>0.000024</td>\n",
       "      <td>4</td>\n",
       "      <td>3</td>\n",
       "      <td>NaN</td>\n",
       "      <td>{'max_features': 4, 'n_estimators': 3}</td>\n",
       "      <td>-186.521016</td>\n",
       "      <td>-183.727428</td>\n",
       "      <td>...</td>\n",
       "      <td>-189.175589</td>\n",
       "      <td>8.237799</td>\n",
       "      <td>14</td>\n",
       "      <td>-58.521143</td>\n",
       "      <td>-61.109877</td>\n",
       "      <td>-59.068428</td>\n",
       "      <td>-53.540619</td>\n",
       "      <td>-59.588578</td>\n",
       "      <td>-58.365729</td>\n",
       "      <td>2.562239</td>\n",
       "    </tr>\n",
       "    <tr>\n",
       "      <th>4</th>\n",
       "      <td>0.026011</td>\n",
       "      <td>0.000080</td>\n",
       "      <td>0.002357</td>\n",
       "      <td>0.000035</td>\n",
       "      <td>4</td>\n",
       "      <td>10</td>\n",
       "      <td>NaN</td>\n",
       "      <td>{'max_features': 4, 'n_estimators': 10}</td>\n",
       "      <td>-164.417514</td>\n",
       "      <td>-148.124401</td>\n",
       "      <td>...</td>\n",
       "      <td>-161.761151</td>\n",
       "      <td>8.066379</td>\n",
       "      <td>7</td>\n",
       "      <td>-39.751572</td>\n",
       "      <td>-41.349158</td>\n",
       "      <td>-40.028359</td>\n",
       "      <td>-38.154740</td>\n",
       "      <td>-39.915931</td>\n",
       "      <td>-39.839952</td>\n",
       "      <td>1.016536</td>\n",
       "    </tr>\n",
       "    <tr>\n",
       "      <th>5</th>\n",
       "      <td>0.078587</td>\n",
       "      <td>0.004480</td>\n",
       "      <td>0.005830</td>\n",
       "      <td>0.000138</td>\n",
       "      <td>4</td>\n",
       "      <td>30</td>\n",
       "      <td>NaN</td>\n",
       "      <td>{'max_features': 4, 'n_estimators': 30}</td>\n",
       "      <td>-151.342989</td>\n",
       "      <td>-142.982174</td>\n",
       "      <td>...</td>\n",
       "      <td>-152.019286</td>\n",
       "      <td>6.245883</td>\n",
       "      <td>3</td>\n",
       "      <td>-34.308279</td>\n",
       "      <td>-35.372828</td>\n",
       "      <td>-35.293609</td>\n",
       "      <td>-33.936695</td>\n",
       "      <td>-34.149848</td>\n",
       "      <td>-34.612252</td>\n",
       "      <td>0.600886</td>\n",
       "    </tr>\n",
       "    <tr>\n",
       "      <th>6</th>\n",
       "      <td>0.010136</td>\n",
       "      <td>0.000144</td>\n",
       "      <td>0.001218</td>\n",
       "      <td>0.000013</td>\n",
       "      <td>6</td>\n",
       "      <td>3</td>\n",
       "      <td>NaN</td>\n",
       "      <td>{'max_features': 6, 'n_estimators': 3}</td>\n",
       "      <td>-192.156776</td>\n",
       "      <td>-177.462686</td>\n",
       "      <td>...</td>\n",
       "      <td>-188.880026</td>\n",
       "      <td>5.774926</td>\n",
       "      <td>13</td>\n",
       "      <td>-55.856287</td>\n",
       "      <td>-60.248139</td>\n",
       "      <td>-57.131039</td>\n",
       "      <td>-56.635131</td>\n",
       "      <td>-55.863450</td>\n",
       "      <td>-57.146809</td>\n",
       "      <td>1.624362</td>\n",
       "    </tr>\n",
       "    <tr>\n",
       "      <th>7</th>\n",
       "      <td>0.030748</td>\n",
       "      <td>0.000170</td>\n",
       "      <td>0.002377</td>\n",
       "      <td>0.000023</td>\n",
       "      <td>6</td>\n",
       "      <td>10</td>\n",
       "      <td>NaN</td>\n",
       "      <td>{'max_features': 6, 'n_estimators': 10}</td>\n",
       "      <td>-159.800767</td>\n",
       "      <td>-148.000334</td>\n",
       "      <td>...</td>\n",
       "      <td>-159.114775</td>\n",
       "      <td>6.689286</td>\n",
       "      <td>6</td>\n",
       "      <td>-39.054605</td>\n",
       "      <td>-39.329744</td>\n",
       "      <td>-38.951938</td>\n",
       "      <td>-38.978099</td>\n",
       "      <td>-38.610848</td>\n",
       "      <td>-38.985047</td>\n",
       "      <td>0.230141</td>\n",
       "    </tr>\n",
       "    <tr>\n",
       "      <th>8</th>\n",
       "      <td>0.090141</td>\n",
       "      <td>0.000576</td>\n",
       "      <td>0.005777</td>\n",
       "      <td>0.000071</td>\n",
       "      <td>6</td>\n",
       "      <td>30</td>\n",
       "      <td>NaN</td>\n",
       "      <td>{'max_features': 6, 'n_estimators': 30}</td>\n",
       "      <td>-150.611837</td>\n",
       "      <td>-140.228198</td>\n",
       "      <td>...</td>\n",
       "      <td>-150.021515</td>\n",
       "      <td>6.351207</td>\n",
       "      <td>2</td>\n",
       "      <td>-34.143642</td>\n",
       "      <td>-34.645956</td>\n",
       "      <td>-34.878268</td>\n",
       "      <td>-33.790731</td>\n",
       "      <td>-33.583030</td>\n",
       "      <td>-34.208325</td>\n",
       "      <td>0.491916</td>\n",
       "    </tr>\n",
       "    <tr>\n",
       "      <th>9</th>\n",
       "      <td>0.011810</td>\n",
       "      <td>0.000565</td>\n",
       "      <td>0.001233</td>\n",
       "      <td>0.000071</td>\n",
       "      <td>8</td>\n",
       "      <td>3</td>\n",
       "      <td>NaN</td>\n",
       "      <td>{'max_features': 8, 'n_estimators': 3}</td>\n",
       "      <td>-183.879495</td>\n",
       "      <td>-189.636284</td>\n",
       "      <td>...</td>\n",
       "      <td>-186.805823</td>\n",
       "      <td>4.090707</td>\n",
       "      <td>12</td>\n",
       "      <td>-55.681104</td>\n",
       "      <td>-61.641952</td>\n",
       "      <td>-58.440668</td>\n",
       "      <td>-55.621461</td>\n",
       "      <td>-58.600756</td>\n",
       "      <td>-57.997188</td>\n",
       "      <td>2.229511</td>\n",
       "    </tr>\n",
       "    <tr>\n",
       "      <th>10</th>\n",
       "      <td>0.035401</td>\n",
       "      <td>0.000230</td>\n",
       "      <td>0.002390</td>\n",
       "      <td>0.000021</td>\n",
       "      <td>8</td>\n",
       "      <td>10</td>\n",
       "      <td>NaN</td>\n",
       "      <td>{'max_features': 8, 'n_estimators': 10}</td>\n",
       "      <td>-161.344075</td>\n",
       "      <td>-148.056137</td>\n",
       "      <td>...</td>\n",
       "      <td>-157.789480</td>\n",
       "      <td>6.815174</td>\n",
       "      <td>5</td>\n",
       "      <td>-39.521362</td>\n",
       "      <td>-40.408266</td>\n",
       "      <td>-40.184246</td>\n",
       "      <td>-37.856380</td>\n",
       "      <td>-39.101658</td>\n",
       "      <td>-39.414382</td>\n",
       "      <td>0.907426</td>\n",
       "    </tr>\n",
       "    <tr>\n",
       "      <th>11</th>\n",
       "      <td>0.103999</td>\n",
       "      <td>0.000708</td>\n",
       "      <td>0.005719</td>\n",
       "      <td>0.000021</td>\n",
       "      <td>8</td>\n",
       "      <td>30</td>\n",
       "      <td>NaN</td>\n",
       "      <td>{'max_features': 8, 'n_estimators': 30}</td>\n",
       "      <td>-151.063659</td>\n",
       "      <td>-139.391859</td>\n",
       "      <td>...</td>\n",
       "      <td>-149.612889</td>\n",
       "      <td>7.209434</td>\n",
       "      <td>1</td>\n",
       "      <td>-34.216399</td>\n",
       "      <td>-34.804269</td>\n",
       "      <td>-34.782947</td>\n",
       "      <td>-33.505109</td>\n",
       "      <td>-33.856986</td>\n",
       "      <td>-34.233142</td>\n",
       "      <td>0.509956</td>\n",
       "    </tr>\n",
       "    <tr>\n",
       "      <th>12</th>\n",
       "      <td>0.010549</td>\n",
       "      <td>0.000408</td>\n",
       "      <td>0.001334</td>\n",
       "      <td>0.000125</td>\n",
       "      <td>2</td>\n",
       "      <td>3</td>\n",
       "      <td>False</td>\n",
       "      <td>{'bootstrap': False, 'max_features': 2, 'n_est...</td>\n",
       "      <td>-196.363764</td>\n",
       "      <td>-183.669234</td>\n",
       "      <td>...</td>\n",
       "      <td>-195.586284</td>\n",
       "      <td>9.292292</td>\n",
       "      <td>18</td>\n",
       "      <td>-16.416483</td>\n",
       "      <td>-16.470230</td>\n",
       "      <td>-17.400001</td>\n",
       "      <td>-16.121991</td>\n",
       "      <td>-16.240348</td>\n",
       "      <td>-16.529810</td>\n",
       "      <td>0.452489</td>\n",
       "    </tr>\n",
       "    <tr>\n",
       "      <th>13</th>\n",
       "      <td>0.031378</td>\n",
       "      <td>0.000054</td>\n",
       "      <td>0.002900</td>\n",
       "      <td>0.000422</td>\n",
       "      <td>2</td>\n",
       "      <td>10</td>\n",
       "      <td>False</td>\n",
       "      <td>{'bootstrap': False, 'max_features': 2, 'n_est...</td>\n",
       "      <td>-174.017911</td>\n",
       "      <td>-161.827706</td>\n",
       "      <td>...</td>\n",
       "      <td>-169.833239</td>\n",
       "      <td>5.568735</td>\n",
       "      <td>11</td>\n",
       "      <td>-16.422109</td>\n",
       "      <td>-16.478302</td>\n",
       "      <td>-17.382645</td>\n",
       "      <td>-16.084844</td>\n",
       "      <td>-16.267260</td>\n",
       "      <td>-16.527032</td>\n",
       "      <td>0.449103</td>\n",
       "    </tr>\n",
       "    <tr>\n",
       "      <th>14</th>\n",
       "      <td>0.011268</td>\n",
       "      <td>0.000061</td>\n",
       "      <td>0.001295</td>\n",
       "      <td>0.000041</td>\n",
       "      <td>3</td>\n",
       "      <td>3</td>\n",
       "      <td>False</td>\n",
       "      <td>{'bootstrap': False, 'max_features': 3, 'n_est...</td>\n",
       "      <td>-198.769049</td>\n",
       "      <td>-171.077788</td>\n",
       "      <td>...</td>\n",
       "      <td>-192.829614</td>\n",
       "      <td>11.897881</td>\n",
       "      <td>16</td>\n",
       "      <td>-16.413434</td>\n",
       "      <td>-16.585307</td>\n",
       "      <td>-17.375492</td>\n",
       "      <td>-16.101621</td>\n",
       "      <td>-16.398541</td>\n",
       "      <td>-16.574879</td>\n",
       "      <td>0.429470</td>\n",
       "    </tr>\n",
       "    <tr>\n",
       "      <th>15</th>\n",
       "      <td>0.034459</td>\n",
       "      <td>0.000129</td>\n",
       "      <td>0.002631</td>\n",
       "      <td>0.000021</td>\n",
       "      <td>3</td>\n",
       "      <td>10</td>\n",
       "      <td>False</td>\n",
       "      <td>{'bootstrap': False, 'max_features': 3, 'n_est...</td>\n",
       "      <td>-169.758822</td>\n",
       "      <td>-154.940233</td>\n",
       "      <td>...</td>\n",
       "      <td>-167.767117</td>\n",
       "      <td>7.978683</td>\n",
       "      <td>10</td>\n",
       "      <td>-16.417090</td>\n",
       "      <td>-16.501695</td>\n",
       "      <td>-17.376976</td>\n",
       "      <td>-16.089004</td>\n",
       "      <td>-16.285381</td>\n",
       "      <td>-16.534029</td>\n",
       "      <td>0.443882</td>\n",
       "    </tr>\n",
       "    <tr>\n",
       "      <th>16</th>\n",
       "      <td>0.012194</td>\n",
       "      <td>0.000112</td>\n",
       "      <td>0.001283</td>\n",
       "      <td>0.000020</td>\n",
       "      <td>4</td>\n",
       "      <td>3</td>\n",
       "      <td>False</td>\n",
       "      <td>{'bootstrap': False, 'max_features': 4, 'n_est...</td>\n",
       "      <td>-192.693066</td>\n",
       "      <td>-187.455008</td>\n",
       "      <td>...</td>\n",
       "      <td>-190.764367</td>\n",
       "      <td>6.342707</td>\n",
       "      <td>15</td>\n",
       "      <td>-16.588317</td>\n",
       "      <td>-16.568094</td>\n",
       "      <td>-17.385533</td>\n",
       "      <td>-16.079668</td>\n",
       "      <td>-16.240914</td>\n",
       "      <td>-16.572505</td>\n",
       "      <td>0.450361</td>\n",
       "    </tr>\n",
       "    <tr>\n",
       "      <th>17</th>\n",
       "      <td>0.038177</td>\n",
       "      <td>0.000646</td>\n",
       "      <td>0.002818</td>\n",
       "      <td>0.000313</td>\n",
       "      <td>4</td>\n",
       "      <td>10</td>\n",
       "      <td>False</td>\n",
       "      <td>{'bootstrap': False, 'max_features': 4, 'n_est...</td>\n",
       "      <td>-165.786699</td>\n",
       "      <td>-156.469958</td>\n",
       "      <td>...</td>\n",
       "      <td>-166.979456</td>\n",
       "      <td>8.889339</td>\n",
       "      <td>9</td>\n",
       "      <td>-16.436060</td>\n",
       "      <td>-16.479551</td>\n",
       "      <td>-17.367869</td>\n",
       "      <td>-16.091910</td>\n",
       "      <td>-16.248557</td>\n",
       "      <td>-16.524789</td>\n",
       "      <td>0.443710</td>\n",
       "    </tr>\n",
       "  </tbody>\n",
       "</table>\n",
       "<p>18 rows × 23 columns</p>\n",
       "</div>"
      ],
      "text/plain": [
       "    mean_fit_time  std_fit_time  mean_score_time  std_score_time  \\\n",
       "0        0.010028      0.001552         0.001635        0.000201   \n",
       "1        0.022804      0.000978         0.002483        0.000139   \n",
       "2        0.063651      0.001258         0.005933        0.000074   \n",
       "3        0.008692      0.000154         0.001206        0.000024   \n",
       "4        0.026011      0.000080         0.002357        0.000035   \n",
       "5        0.078587      0.004480         0.005830        0.000138   \n",
       "6        0.010136      0.000144         0.001218        0.000013   \n",
       "7        0.030748      0.000170         0.002377        0.000023   \n",
       "8        0.090141      0.000576         0.005777        0.000071   \n",
       "9        0.011810      0.000565         0.001233        0.000071   \n",
       "10       0.035401      0.000230         0.002390        0.000021   \n",
       "11       0.103999      0.000708         0.005719        0.000021   \n",
       "12       0.010549      0.000408         0.001334        0.000125   \n",
       "13       0.031378      0.000054         0.002900        0.000422   \n",
       "14       0.011268      0.000061         0.001295        0.000041   \n",
       "15       0.034459      0.000129         0.002631        0.000021   \n",
       "16       0.012194      0.000112         0.001283        0.000020   \n",
       "17       0.038177      0.000646         0.002818        0.000313   \n",
       "\n",
       "   param_max_features param_n_estimators param_bootstrap  \\\n",
       "0                   2                  3             NaN   \n",
       "1                   2                 10             NaN   \n",
       "2                   2                 30             NaN   \n",
       "3                   4                  3             NaN   \n",
       "4                   4                 10             NaN   \n",
       "5                   4                 30             NaN   \n",
       "6                   6                  3             NaN   \n",
       "7                   6                 10             NaN   \n",
       "8                   6                 30             NaN   \n",
       "9                   8                  3             NaN   \n",
       "10                  8                 10             NaN   \n",
       "11                  8                 30             NaN   \n",
       "12                  2                  3           False   \n",
       "13                  2                 10           False   \n",
       "14                  3                  3           False   \n",
       "15                  3                 10           False   \n",
       "16                  4                  3           False   \n",
       "17                  4                 10           False   \n",
       "\n",
       "                                               params  split0_test_score  \\\n",
       "0              {'max_features': 2, 'n_estimators': 3}        -201.324814   \n",
       "1             {'max_features': 2, 'n_estimators': 10}        -164.307068   \n",
       "2             {'max_features': 2, 'n_estimators': 30}        -153.200140   \n",
       "3              {'max_features': 4, 'n_estimators': 3}        -186.521016   \n",
       "4             {'max_features': 4, 'n_estimators': 10}        -164.417514   \n",
       "5             {'max_features': 4, 'n_estimators': 30}        -151.342989   \n",
       "6              {'max_features': 6, 'n_estimators': 3}        -192.156776   \n",
       "7             {'max_features': 6, 'n_estimators': 10}        -159.800767   \n",
       "8             {'max_features': 6, 'n_estimators': 30}        -150.611837   \n",
       "9              {'max_features': 8, 'n_estimators': 3}        -183.879495   \n",
       "10            {'max_features': 8, 'n_estimators': 10}        -161.344075   \n",
       "11            {'max_features': 8, 'n_estimators': 30}        -151.063659   \n",
       "12  {'bootstrap': False, 'max_features': 2, 'n_est...        -196.363764   \n",
       "13  {'bootstrap': False, 'max_features': 2, 'n_est...        -174.017911   \n",
       "14  {'bootstrap': False, 'max_features': 3, 'n_est...        -198.769049   \n",
       "15  {'bootstrap': False, 'max_features': 3, 'n_est...        -169.758822   \n",
       "16  {'bootstrap': False, 'max_features': 4, 'n_est...        -192.693066   \n",
       "17  {'bootstrap': False, 'max_features': 4, 'n_est...        -165.786699   \n",
       "\n",
       "    split1_test_score  ...  mean_test_score  std_test_score  rank_test_score  \\\n",
       "0         -192.742402  ...      -195.177368        3.619553               17   \n",
       "1         -155.747298  ...      -161.997476        4.511204                8   \n",
       "2         -146.233581  ...      -153.574703        5.972026                4   \n",
       "3         -183.727428  ...      -189.175589        8.237799               14   \n",
       "4         -148.124401  ...      -161.761151        8.066379                7   \n",
       "5         -142.982174  ...      -152.019286        6.245883                3   \n",
       "6         -177.462686  ...      -188.880026        5.774926               13   \n",
       "7         -148.000334  ...      -159.114775        6.689286                6   \n",
       "8         -140.228198  ...      -150.021515        6.351207                2   \n",
       "9         -189.636284  ...      -186.805823        4.090707               12   \n",
       "10        -148.056137  ...      -157.789480        6.815174                5   \n",
       "11        -139.391859  ...      -149.612889        7.209434                1   \n",
       "12        -183.669234  ...      -195.586284        9.292292               18   \n",
       "13        -161.827706  ...      -169.833239        5.568735               11   \n",
       "14        -171.077788  ...      -192.829614       11.897881               16   \n",
       "15        -154.940233  ...      -167.767117        7.978683               10   \n",
       "16        -187.455008  ...      -190.764367        6.342707               15   \n",
       "17        -156.469958  ...      -166.979456        8.889339                9   \n",
       "\n",
       "    split0_train_score  split1_train_score  split2_train_score  \\\n",
       "0           -59.206476          -62.113348          -64.622003   \n",
       "1           -40.428128          -41.637689          -42.409087   \n",
       "2           -34.947619          -35.856318          -35.757122   \n",
       "3           -58.521143          -61.109877          -59.068428   \n",
       "4           -39.751572          -41.349158          -40.028359   \n",
       "5           -34.308279          -35.372828          -35.293609   \n",
       "6           -55.856287          -60.248139          -57.131039   \n",
       "7           -39.054605          -39.329744          -38.951938   \n",
       "8           -34.143642          -34.645956          -34.878268   \n",
       "9           -55.681104          -61.641952          -58.440668   \n",
       "10          -39.521362          -40.408266          -40.184246   \n",
       "11          -34.216399          -34.804269          -34.782947   \n",
       "12          -16.416483          -16.470230          -17.400001   \n",
       "13          -16.422109          -16.478302          -17.382645   \n",
       "14          -16.413434          -16.585307          -17.375492   \n",
       "15          -16.417090          -16.501695          -17.376976   \n",
       "16          -16.588317          -16.568094          -17.385533   \n",
       "17          -16.436060          -16.479551          -17.367869   \n",
       "\n",
       "    split3_train_score  split4_train_score  mean_train_score  std_train_score  \n",
       "0           -59.994880          -59.842798        -61.155901         1.990127  \n",
       "1           -40.277038          -39.700760        -40.890540         0.986915  \n",
       "2           -34.750909          -34.996578        -35.261709         0.453620  \n",
       "3           -53.540619          -59.588578        -58.365729         2.562239  \n",
       "4           -38.154740          -39.915931        -39.839952         1.016536  \n",
       "5           -33.936695          -34.149848        -34.612252         0.600886  \n",
       "6           -56.635131          -55.863450        -57.146809         1.624362  \n",
       "7           -38.978099          -38.610848        -38.985047         0.230141  \n",
       "8           -33.790731          -33.583030        -34.208325         0.491916  \n",
       "9           -55.621461          -58.600756        -57.997188         2.229511  \n",
       "10          -37.856380          -39.101658        -39.414382         0.907426  \n",
       "11          -33.505109          -33.856986        -34.233142         0.509956  \n",
       "12          -16.121991          -16.240348        -16.529810         0.452489  \n",
       "13          -16.084844          -16.267260        -16.527032         0.449103  \n",
       "14          -16.101621          -16.398541        -16.574879         0.429470  \n",
       "15          -16.089004          -16.285381        -16.534029         0.443882  \n",
       "16          -16.079668          -16.240914        -16.572505         0.450361  \n",
       "17          -16.091910          -16.248557        -16.524789         0.443710  \n",
       "\n",
       "[18 rows x 23 columns]"
      ]
     },
     "execution_count": 52,
     "metadata": {},
     "output_type": "execute_result"
    }
   ],
   "source": [
    "pd.DataFrame(grid_search.cv_results_)"
   ]
  },
  {
   "cell_type": "code",
   "execution_count": 53,
   "metadata": {},
   "outputs": [
    {
     "data": {
      "text/plain": [
       "RandomizedSearchCV(cv=5, error_score='raise-deprecating',\n",
       "                   estimator=RandomForestRegressor(bootstrap=True,\n",
       "                                                   criterion='mse',\n",
       "                                                   max_depth=None,\n",
       "                                                   max_features='auto',\n",
       "                                                   max_leaf_nodes=None,\n",
       "                                                   min_impurity_decrease=0.0,\n",
       "                                                   min_impurity_split=None,\n",
       "                                                   min_samples_leaf=1,\n",
       "                                                   min_samples_split=2,\n",
       "                                                   min_weight_fraction_leaf=0.0,\n",
       "                                                   n_estimators='warn',\n",
       "                                                   n_jobs=None, oob_score=False,\n",
       "                                                   random_sta...\n",
       "                                                   warm_start=False),\n",
       "                   iid='warn', n_iter=10, n_jobs=None,\n",
       "                   param_distributions={'max_features': <scipy.stats._distn_infrastructure.rv_frozen object at 0x7f5dbedd2a58>,\n",
       "                                        'n_estimators': <scipy.stats._distn_infrastructure.rv_frozen object at 0x7f5dbedd2828>},\n",
       "                   pre_dispatch='2*n_jobs', random_state=42, refit=True,\n",
       "                   return_train_score=False, scoring='neg_mean_squared_error',\n",
       "                   verbose=0)"
      ]
     },
     "execution_count": 53,
     "metadata": {},
     "output_type": "execute_result"
    }
   ],
   "source": [
    "from sklearn.model_selection import RandomizedSearchCV\n",
    "from scipy.stats import randint\n",
    "\n",
    "param_distribs = {\n",
    "        'n_estimators': randint(low=1, high=200),\n",
    "        'max_features': randint(low=1, high=8),\n",
    "    }\n",
    "\n",
    "forest_reg = RandomForestRegressor(random_state=42)\n",
    "rnd_search = RandomizedSearchCV(forest_reg, param_distributions=param_distribs,\n",
    "                                n_iter=10, cv=5, scoring='neg_mean_squared_error', random_state=42)\n",
    "rnd_search.fit(train_set_features, train_set_labels)"
   ]
  },
  {
   "cell_type": "code",
   "execution_count": 54,
   "metadata": {},
   "outputs": [
    {
     "name": "stdout",
     "output_type": "stream",
     "text": [
      "12.03727917791015 {'max_features': 7, 'n_estimators': 180}\n",
      "12.453104270141306 {'max_features': 5, 'n_estimators': 15}\n",
      "12.212010141860633 {'max_features': 3, 'n_estimators': 72}\n",
      "12.335432042858663 {'max_features': 5, 'n_estimators': 21}\n",
      "12.053245568600268 {'max_features': 7, 'n_estimators': 122}\n",
      "12.20489269313665 {'max_features': 3, 'n_estimators': 75}\n",
      "12.193780644333566 {'max_features': 3, 'n_estimators': 88}\n",
      "12.128254519981121 {'max_features': 5, 'n_estimators': 100}\n",
      "12.184561610537662 {'max_features': 3, 'n_estimators': 150}\n",
      "14.572136185723306 {'max_features': 5, 'n_estimators': 2}\n"
     ]
    }
   ],
   "source": [
    "cvres = rnd_search.cv_results_\n",
    "for mean_score, params in zip(cvres[\"mean_test_score\"], cvres[\"params\"]):\n",
    "    print(np.sqrt(-mean_score), params)"
   ]
  },
  {
   "cell_type": "code",
   "execution_count": 55,
   "metadata": {},
   "outputs": [
    {
     "data": {
      "text/plain": [
       "array([4.30617595e-02, 2.30794869e-01, 1.02914811e-01, 1.27476532e-01,\n",
       "       2.29859933e-02, 3.29382274e-02, 3.63313941e-03, 1.49480060e-02,\n",
       "       4.19217448e-03, 3.52926547e-02, 3.49291663e-03, 1.20633374e-03,\n",
       "       8.37833391e-03, 1.61688564e-02, 2.57083060e-02, 9.54876781e-03,\n",
       "       9.86543205e-05, 5.50686357e-03, 4.86854583e-02, 6.77871715e-03,\n",
       "       9.77058531e-03, 2.40769533e-02, 1.25245864e-02, 3.61775366e-02,\n",
       "       2.16552522e-02, 1.76784229e-02, 4.72840687e-02, 3.30553178e-02,\n",
       "       5.39659021e-02])"
      ]
     },
     "execution_count": 55,
     "metadata": {},
     "output_type": "execute_result"
    }
   ],
   "source": [
    "feature_importances = grid_search.best_estimator_.feature_importances_\n",
    "feature_importances"
   ]
  },
  {
   "cell_type": "code",
   "execution_count": 56,
   "metadata": {},
   "outputs": [],
   "source": [
    "final_model = grid_search.best_estimator_\n",
    "\n",
    "final_predictions = final_model.predict(test_set_features)\n",
    "\n",
    "final_mse = mean_squared_error(test_set_labels, final_predictions)\n",
    "final_rmse = np.sqrt(final_mse)"
   ]
  },
  {
   "cell_type": "code",
   "execution_count": 57,
   "metadata": {},
   "outputs": [
    {
     "data": {
      "text/plain": [
       "12.429561235981305"
      ]
     },
     "execution_count": 57,
     "metadata": {},
     "output_type": "execute_result"
    }
   ],
   "source": [
    "final_rmse"
   ]
  },
  {
   "cell_type": "markdown",
   "metadata": {},
   "source": [
    "We can compute a 95% confidence interval for the test RMSE:"
   ]
  },
  {
   "cell_type": "code",
   "execution_count": 58,
   "metadata": {},
   "outputs": [],
   "source": [
    "from scipy import stats"
   ]
  },
  {
   "cell_type": "code",
   "execution_count": 59,
   "metadata": {},
   "outputs": [
    {
     "data": {
      "text/plain": [
       "array([11.81627156, 13.01398139])"
      ]
     },
     "execution_count": 59,
     "metadata": {},
     "output_type": "execute_result"
    }
   ],
   "source": [
    "confidence = 0.95\n",
    "squared_errors = (final_predictions - test_set_labels) ** 2\n",
    "mean = squared_errors.mean()\n",
    "m = len(squared_errors)\n",
    "\n",
    "np.sqrt(stats.t.interval(confidence, m - 1,\n",
    "                         loc=np.mean(squared_errors),\n",
    "                         scale=stats.sem(squared_errors)))"
   ]
  },
  {
   "cell_type": "markdown",
   "metadata": {},
   "source": [
    "We could compute the interval manually like this:"
   ]
  },
  {
   "cell_type": "code",
   "execution_count": 60,
   "metadata": {},
   "outputs": [
    {
     "data": {
      "text/plain": [
       "(11.81627155647569, 13.013981387017639)"
      ]
     },
     "execution_count": 60,
     "metadata": {},
     "output_type": "execute_result"
    }
   ],
   "source": [
    "tscore = stats.t.ppf((1 + confidence) / 2, df=m - 1)\n",
    "tmargin = tscore * squared_errors.std(ddof=1) / np.sqrt(m)\n",
    "np.sqrt(mean - tmargin), np.sqrt(mean + tmargin)"
   ]
  },
  {
   "cell_type": "markdown",
   "metadata": {},
   "source": [
    "Alternatively, we could use a z-scores rather than t-scores:"
   ]
  },
  {
   "cell_type": "code",
   "execution_count": 61,
   "metadata": {},
   "outputs": [
    {
     "data": {
      "text/plain": [
       "(11.816914743656028, 13.013397364992079)"
      ]
     },
     "execution_count": 61,
     "metadata": {},
     "output_type": "execute_result"
    }
   ],
   "source": [
    "zscore = stats.norm.ppf((1 + confidence) / 2)\n",
    "zmargin = zscore * squared_errors.std(ddof=1) / np.sqrt(m)\n",
    "np.sqrt(mean - zmargin), np.sqrt(mean + zmargin)"
   ]
  },
  {
   "cell_type": "markdown",
   "metadata": {},
   "source": [
    "# Visualizing Predictions"
   ]
  },
  {
   "cell_type": "markdown",
   "metadata": {},
   "source": [
    "Lets take a look at some few predictions compared to actual values"
   ]
  },
  {
   "cell_type": "code",
   "execution_count": 79,
   "metadata": {},
   "outputs": [
    {
     "data": {
      "text/plain": [
       "Text(0, 0.5, 'Age Values')"
      ]
     },
     "execution_count": 79,
     "metadata": {},
     "output_type": "execute_result"
    },
    {
     "data": {
      "image/png": "[encoded data removed]",
      "text/plain": [
       "<Figure size 432x288 with 1 Axes>"
      ]
     },
     "metadata": {
      "needs_background": "light"
     },
     "output_type": "display_data"
    }
   ],
   "source": [
    "plt.scatter(np.linspace(1,len(test_set_labels[0:10]),len(test_set_labels[0:10])), test_set_labels[0:10], color ='b',label=\"Actual\", s=20)\n",
    "plt.scatter(np.linspace(1,len(test_set_labels[0:10]),len(test_set_labels[0:10])), final_predictions[0:10], color = 'g', label=\"prediction\", s=20)\n",
    "plt.legend(loc='best')\n",
    "plt.title('Model Visualization')\n",
    "plt.xlabel('Indexes')\n",
    "plt.ylabel('Age Values')"
   ]
  },
  {
   "cell_type": "markdown",
   "metadata": {},
   "source": [
    "# Extra material"
   ]
  },
  {
   "cell_type": "markdown",
   "metadata": {},
   "source": [
    "## Model persistence using joblib"
   ]
  },
  {
   "cell_type": "code",
   "execution_count": null,
   "metadata": {},
   "outputs": [],
   "source": [
    "from sklearn.externals import joblib\n",
    "joblib.dump(final_model, \"my_model.pkl\") # DIFF\n",
    "#...\n",
    "my_model_loaded = joblib.load(\"my_model.pkl\") # DIFF"
   ]
  },
  {
   "cell_type": "markdown",
   "metadata": {},
   "source": [
    "## Example SciPy distributions for `RandomizedSearchCV`"
   ]
  },
  {
   "cell_type": "code",
   "execution_count": null,
   "metadata": {},
   "outputs": [],
   "source": [
    "from scipy.stats import geom, expon\n",
    "geom_distrib=geom(0.5).rvs(10000, random_state=42)\n",
    "expon_distrib=expon(scale=1).rvs(10000, random_state=42)\n",
    "plt.hist(geom_distrib, bins=50)\n",
    "plt.show()\n",
    "plt.hist(expon_distrib, bins=50)\n",
    "plt.show()"
   ]
  },
  {
   "cell_type": "markdown",
   "metadata": {},
   "source": [
    "# Exercise solutions"
   ]
  },
  {
   "cell_type": "markdown",
   "metadata": {},
   "source": [
    "## 1."
   ]
  },
  {
   "cell_type": "markdown",
   "metadata": {
    "collapsed": true
   },
   "source": [
    "Question: Try a Support Vector Machine regressor (`sklearn.svm.SVR`), with various hyperparameters such as `kernel=\"linear\"` (with various values for the `C` hyperparameter) or `kernel=\"rbf\"` (with various values for the `C` and `gamma` hyperparameters). Don't worry about what these hyperparameters mean for now. How does the best `SVR` predictor perform?"
   ]
  },
  {
   "cell_type": "code",
   "execution_count": null,
   "metadata": {},
   "outputs": [],
   "source": [
    "from sklearn.model_selection import GridSearchCV\n",
    "\n",
    "param_grid = [\n",
    "        {'kernel': ['linear'], 'C': [10., 30., 100., 300., 1000., 3000., 10000., 30000.0]},\n",
    "        {'kernel': ['rbf'], 'C': [1.0, 3.0, 10., 30., 100., 300., 1000.0],\n",
    "         'gamma': [0.01, 0.03, 0.1, 0.3, 1.0, 3.0]},\n",
    "    ]\n",
    "\n",
    "svm_reg = SVR()\n",
    "grid_search = GridSearchCV(svm_reg, param_grid, cv=5, scoring='neg_mean_squared_error', verbose=2, n_jobs=4)\n",
    "grid_search.fit(train_set_features, train_set_labels)"
   ]
  },
  {
   "cell_type": "markdown",
   "metadata": {},
   "source": [
    "The best model achieves the following score (evaluated using 5-fold cross validation):"
   ]
  },
  {
   "cell_type": "code",
   "execution_count": null,
   "metadata": {},
   "outputs": [],
   "source": [
    "negative_mse = grid_search.best_score_\n",
    "rmse = np.sqrt(-negative_mse)\n",
    "rmse"
   ]
  },
  {
   "cell_type": "markdown",
   "metadata": {},
   "source": [
    "That's much worse than the `RandomForestRegressor`. Let's check the best hyperparameters found:"
   ]
  },
  {
   "cell_type": "code",
   "execution_count": null,
   "metadata": {},
   "outputs": [],
   "source": [
    "grid_search.best_params_"
   ]
  },
  {
   "cell_type": "markdown",
   "metadata": {},
   "source": [
    "The linear kernel seems better than the RBF kernel. Notice that the value of `C` is the maximum tested value. When this happens you definitely want to launch the grid search again with higher values for `C` (removing the smallest values), because it is likely that higher values of `C` will be better."
   ]
  },
  {
   "cell_type": "markdown",
   "metadata": {},
   "source": [
    "## 2."
   ]
  },
  {
   "cell_type": "markdown",
   "metadata": {},
   "source": [
    "Question: Try replacing `GridSearchCV` with `RandomizedSearchCV`."
   ]
  },
  {
   "cell_type": "code",
   "execution_count": null,
   "metadata": {},
   "outputs": [],
   "source": [
    "from sklearn.model_selection import RandomizedSearchCV\n",
    "from scipy.stats import expon, reciprocal\n",
    "\n",
    "# see https://docs.scipy.org/doc/scipy/reference/stats.html\n",
    "# for `expon()` and `reciprocal()` documentation and more probability distribution functions.\n",
    "\n",
    "# Note: gamma is ignored when kernel is \"linear\"\n",
    "param_distribs = {\n",
    "        'kernel': ['linear', 'rbf'],\n",
    "        'C': reciprocal(20, 200000),\n",
    "        'gamma': expon(scale=1.0),\n",
    "    }\n",
    "\n",
    "svm_reg = SVR()\n",
    "rnd_search = RandomizedSearchCV(svm_reg, param_distributions=param_distribs,\n",
    "                                n_iter=50, cv=5, scoring='neg_mean_squared_error',\n",
    "                                verbose=2, n_jobs=4, random_state=42)\n",
    "rnd_search.fit(train_set_features, train_set_labels)"
   ]
  },
  {
   "cell_type": "markdown",
   "metadata": {},
   "source": [
    "The best model achieves the following score (evaluated using 5-fold cross validation):"
   ]
  },
  {
   "cell_type": "code",
   "execution_count": null,
   "metadata": {},
   "outputs": [],
   "source": [
    "negative_mse = rnd_search.best_score_\n",
    "rmse = np.sqrt(-negative_mse)\n",
    "rmse"
   ]
  },
  {
   "cell_type": "markdown",
   "metadata": {},
   "source": [
    "Now this is much closer to the performance of the `RandomForestRegressor` (but not quite there yet). Let's check the best hyperparameters found:"
   ]
  },
  {
   "cell_type": "code",
   "execution_count": null,
   "metadata": {},
   "outputs": [],
   "source": [
    "rnd_search.best_params_"
   ]
  },
  {
   "cell_type": "markdown",
   "metadata": {},
   "source": [
    "This time the search found a good set of hyperparameters for the RBF kernel. Randomized search tends to find better hyperparameters than grid search in the same amount of time."
   ]
  },
  {
   "cell_type": "markdown",
   "metadata": {},
   "source": [
    "Let's look at the exponential distribution we used, with `scale=1.0`. Note that some samples are much larger or smaller than 1.0, but when you look at the log of the distribution, you can see that most values are actually concentrated roughly in the range of exp(-2) to exp(+2), which is about 0.1 to 7.4."
   ]
  },
  {
   "cell_type": "code",
   "execution_count": null,
   "metadata": {},
   "outputs": [],
   "source": [
    "expon_distrib = expon(scale=1.)\n",
    "samples = expon_distrib.rvs(10000, random_state=42)\n",
    "plt.figure(figsize=(10, 4))\n",
    "plt.subplot(121)\n",
    "plt.title(\"Exponential distribution (scale=1.0)\")\n",
    "plt.hist(samples, bins=50)\n",
    "plt.subplot(122)\n",
    "plt.title(\"Log of this distribution\")\n",
    "plt.hist(np.log(samples), bins=50)\n",
    "plt.show()"
   ]
  },
  {
   "cell_type": "markdown",
   "metadata": {},
   "source": [
    "The distribution we used for `C` looks quite different: the scale of the samples is picked from a uniform distribution within a given range, which is why the right graph, which represents the log of the samples, looks roughly constant. This distribution is useful when you don't have a clue of what the target scale is:"
   ]
  },
  {
   "cell_type": "code",
   "execution_count": null,
   "metadata": {},
   "outputs": [],
   "source": [
    "reciprocal_distrib = reciprocal(20, 200000)\n",
    "samples = reciprocal_distrib.rvs(10000, random_state=42)\n",
    "plt.figure(figsize=(10, 4))\n",
    "plt.subplot(121)\n",
    "plt.title(\"Reciprocal distribution (scale=1.0)\")\n",
    "plt.hist(samples, bins=50)\n",
    "plt.subplot(122)\n",
    "plt.title(\"Log of this distribution\")\n",
    "plt.hist(np.log(samples), bins=50)\n",
    "plt.show()"
   ]
  },
  {
   "cell_type": "markdown",
   "metadata": {},
   "source": [
    "The reciprocal distribution is useful when you have no idea what the scale of the hyperparameter should be (indeed, as you can see on the figure on the right, all scales are equally likely, within the given range), whereas the exponential distribution is best when you know (more or less) what the scale of the hyperparameter should be."
   ]
  },
  {
   "cell_type": "markdown",
   "metadata": {},
   "source": [
    "## 3."
   ]
  },
  {
   "cell_type": "markdown",
   "metadata": {},
   "source": [
    "Question: Try adding a transformer in the preparation pipeline to select only the most important attributes."
   ]
  },
  {
   "cell_type": "code",
   "execution_count": null,
   "metadata": {},
   "outputs": [],
   "source": [
    "from sklearn.base import BaseEstimator, TransformerMixin\n",
    "\n",
    "def indices_of_top_k(arr, k):\n",
    "    return np.sort(np.argpartition(np.array(arr), -k)[-k:])\n",
    "\n",
    "class TopFeatureSelector(BaseEstimator, TransformerMixin):\n",
    "    def __init__(self, feature_importances, k):\n",
    "        self.feature_importances = feature_importances\n",
    "        self.k = k\n",
    "    def fit(self, X, y=None):\n",
    "        self.feature_indices_ = indices_of_top_k(self.feature_importances, self.k)\n",
    "        return self\n",
    "    def transform(self, X):\n",
    "        return X[:, self.feature_indices_]"
   ]
  },
  {
   "cell_type": "markdown",
   "metadata": {},
   "source": [
    "Note: this feature selector assumes that you have already computed the feature importances somehow (for example using a `RandomForestRegressor`). You may be tempted to compute them directly in the `TopFeatureSelector`'s `fit()` method, however this would likely slow down grid/randomized search since the feature importances would have to be computed for every hyperparameter combination (unless you implement some sort of cache)."
   ]
  },
  {
   "cell_type": "markdown",
   "metadata": {},
   "source": [
    "Let's define the number of top features we want to keep:"
   ]
  },
  {
   "cell_type": "code",
   "execution_count": null,
   "metadata": {},
   "outputs": [],
   "source": [
    "k = 5"
   ]
  },
  {
   "cell_type": "markdown",
   "metadata": {},
   "source": [
    "Now let's look for the indices of the top k features:"
   ]
  },
  {
   "cell_type": "code",
   "execution_count": null,
   "metadata": {},
   "outputs": [],
   "source": [
    "top_k_feature_indices = indices_of_top_k(feature_importances, k)\n",
    "top_k_feature_indices"
   ]
  },
  {
   "cell_type": "code",
   "execution_count": null,
   "metadata": {},
   "outputs": [],
   "source": [
    "np.array(attributes)[top_k_feature_indices]"
   ]
  },
  {
   "cell_type": "markdown",
   "metadata": {},
   "source": [
    "Let's double check that these are indeed the top k features:"
   ]
  },
  {
   "cell_type": "code",
   "execution_count": null,
   "metadata": {},
   "outputs": [],
   "source": [
    "sorted(zip(feature_importances, attributes), reverse=True)[:k]"
   ]
  },
  {
   "cell_type": "markdown",
   "metadata": {},
   "source": [
    "Looking good... Now let's create a new pipeline that runs the previously defined preparation pipeline, and adds top k feature selection:"
   ]
  },
  {
   "cell_type": "code",
   "execution_count": null,
   "metadata": {},
   "outputs": [],
   "source": [
    "preparation_and_feature_selection_pipeline = Pipeline([\n",
    "    ('preparation', full_pipeline),\n",
    "    ('feature_selection', TopFeatureSelector(feature_importances, k))\n",
    "])"
   ]
  },
  {
   "cell_type": "code",
   "execution_count": null,
   "metadata": {},
   "outputs": [],
   "source": [
    "data_top_k_features = preparation_and_feature_selection_pipeline.fit_transform(train_set_features)"
   ]
  },
  {
   "cell_type": "markdown",
   "metadata": {},
   "source": [
    "Let's look at the features of the first 3 instances:"
   ]
  },
  {
   "cell_type": "code",
   "execution_count": null,
   "metadata": {},
   "outputs": [],
   "source": [
    "data_top_k_features[0:3]"
   ]
  },
  {
   "cell_type": "markdown",
   "metadata": {},
   "source": [
    "Now let's double check that these are indeed the top k features:"
   ]
  },
  {
   "cell_type": "code",
   "execution_count": null,
   "metadata": {},
   "outputs": [],
   "source": [
    "data[0:3, top_k_feature_indices]"
   ]
  },
  {
   "cell_type": "markdown",
   "metadata": {},
   "source": [
    "Works great!  :)"
   ]
  },
  {
   "cell_type": "markdown",
   "metadata": {},
   "source": [
    "## 4."
   ]
  },
  {
   "cell_type": "markdown",
   "metadata": {},
   "source": [
    "Question: Try creating a single pipeline that does the full data preparation plus the final prediction."
   ]
  },
  {
   "cell_type": "code",
   "execution_count": null,
   "metadata": {},
   "outputs": [],
   "source": [
    "prepare_select_and_predict_pipeline = Pipeline([\n",
    "    ('preparation', full_pipeline),\n",
    "    ('feature_selection', TopFeatureSelector(feature_importances, k)),\n",
    "    ('svm_reg', SVR(**rnd_search.best_params_))\n",
    "])"
   ]
  },
  {
   "cell_type": "code",
   "execution_count": null,
   "metadata": {},
   "outputs": [],
   "source": [
    "prepare_select_and_predict_pipeline.fit(train_set_features, train_set_labels)"
   ]
  },
  {
   "cell_type": "markdown",
   "metadata": {},
   "source": [
    "Let's try the full pipeline on a few instances:"
   ]
  },
  {
   "cell_type": "code",
   "execution_count": null,
   "metadata": {},
   "outputs": [],
   "source": [
    "some_data = train_set_features.iloc[:4]\n",
    "some_labels = train_set_labels.iloc[:4]\n",
    "\n",
    "print(\"Predictions:\\t\", prepare_select_and_predict_pipeline.predict(some_data))\n",
    "print(\"Labels:\\t\\t\", list(some_labels))"
   ]
  },
  {
   "cell_type": "markdown",
   "metadata": {},
   "source": [
    "Well, the full pipeline seems to work fine. Of course, the predictions are not fantastic: they would be better if we used the best `RandomForestRegressor` that we found earlier, rather than the best `SVR`."
   ]
  },
  {
   "cell_type": "markdown",
   "metadata": {},
   "source": [
    "## 5."
   ]
  },
  {
   "cell_type": "markdown",
   "metadata": {},
   "source": [
    "Question: Automatically explore some preparation options using `GridSearchCV`."
   ]
  },
  {
   "cell_type": "code",
   "execution_count": null,
   "metadata": {},
   "outputs": [],
   "source": [
    "param_grid = [{\n",
    "    'preparation__num__imputer__strategy': ['mean', 'median', 'most_frequent'],\n",
    "    'feature_selection__k': list(range(1, len(feature_importances) + 1))\n",
    "}]\n",
    "\n",
    "grid_search_prep = GridSearchCV(prepare_select_and_predict_pipeline, param_grid, cv=5,\n",
    "                                scoring='neg_mean_squared_error', verbose=2, n_jobs=4)\n",
    "grid_search_prep.fit(train_set_features, train_set_labels)"
   ]
  },
  {
   "cell_type": "code",
   "execution_count": null,
   "metadata": {},
   "outputs": [],
   "source": [
    "grid_search_prep.best_params_"
   ]
  },
  {
   "cell_type": "markdown",
   "metadata": {},
   "source": [
    "The best imputer strategy is `most_frequent` and apparently almost all features are useful (15 out of 16). The last one (`ISLAND`) seems to just add some noise."
   ]
  },
  {
   "cell_type": "markdown",
   "metadata": {},
   "source": [
    "Congratulations! You already know quite a lot about Machine Learning. :)"
   ]
  }
 ],
 "metadata": {
  "kernelspec": {
   "display_name": "Python 3",
   "language": "python",
   "name": "python3"
  },
  "language_info": {
   "codemirror_mode": {
    "name": "ipython",
    "version": 3
   },
   "file_extension": ".py",
   "mimetype": "text/x-python",
   "name": "python",
   "nbconvert_exporter": "python",
   "pygments_lexer": "ipython3",
   "version": "3.7.3"
  },
  "latex_envs": {
   "LaTeX_envs_menu_present": true,
   "autoclose": false,
   "autocomplete": true,
   "bibliofile": "biblio.bib",
   "cite_by": "apalike",
   "current_citInitial": 1,
   "eqLabelWithNumbers": true,
   "eqNumInitial": 1,
   "hotkeys": {
    "equation": "Ctrl-E",
    "itemize": "Ctrl-I"
   },
   "labels_anchors": false,
   "latex_user_defs": false,
   "report_style_numbering": false,
   "user_envs_cfg": false
  },
  "nav_menu": {
   "height": "279px",
   "width": "309px"
  },
  "toc": {
   "nav_menu": {},
   "number_sections": true,
   "sideBar": true,
   "skip_h1_title": false,
   "toc_cell": false,
   "toc_position": {},
   "toc_section_display": "block",
   "toc_window_display": false
  }
 },
 "nbformat": 4,
 "nbformat_minor": 1
}
