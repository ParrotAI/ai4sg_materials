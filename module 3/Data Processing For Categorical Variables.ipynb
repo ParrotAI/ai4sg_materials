{
 "cells": [
  {
   "cell_type": "markdown",
   "metadata": {},
   "source": [
    "# <img style=\"float: left; padding-right: 100px; width: 300px\" src=\"../images/logo.png\">AI4SG Bootcamp:\n",
    "\n",
    "\n",
    "##   Data Processing  For Categorical Variables\n",
    "**Authors:** Davis David"
   ]
  },
  {
   "cell_type": "code",
   "execution_count": 89,
   "metadata": {
    "ExecuteTime": {
     "end_time": "2019-04-08T07:00:13.605544Z",
     "start_time": "2019-04-08T07:00:13.577943Z"
    }
   },
   "outputs": [],
   "source": [
    "# import important modules \n",
    "import numpy as np\n",
    "import pandas as pd\n",
    "import math\n",
    "from sklearn import preprocessing\n",
    "%matplotlib inline\n",
    "\n",
    "np.random.seed(7) \n",
    "import warnings ## importing warnings library. \n",
    "warnings.filterwarnings('ignore') ## Ignore warning "
   ]
  },
  {
   "cell_type": "markdown",
   "metadata": {},
   "source": [
    "### Load and process data"
   ]
  },
  {
   "cell_type": "code",
   "execution_count": 90,
   "metadata": {
    "ExecuteTime": {
     "end_time": "2019-04-08T07:00:16.855225Z",
     "start_time": "2019-04-08T07:00:16.682215Z"
    }
   },
   "outputs": [],
   "source": [
    "data = pd.read_csv(\"../data/students_exams_results.csv\") "
   ]
  },
  {
   "cell_type": "code",
   "execution_count": 91,
   "metadata": {
    "ExecuteTime": {
     "end_time": "2019-04-08T07:00:17.572266Z",
     "start_time": "2019-04-08T07:00:17.554265Z"
    }
   },
   "outputs": [
    {
     "data": {
      "text/html": [
       "<div>\n",
       "<style scoped>\n",
       "    .dataframe tbody tr th:only-of-type {\n",
       "        vertical-align: middle;\n",
       "    }\n",
       "\n",
       "    .dataframe tbody tr th {\n",
       "        vertical-align: top;\n",
       "    }\n",
       "\n",
       "    .dataframe thead th {\n",
       "        text-align: right;\n",
       "    }\n",
       "</style>\n",
       "<table border=\"1\" class=\"dataframe\">\n",
       "  <thead>\n",
       "    <tr style=\"text-align: right;\">\n",
       "      <th></th>\n",
       "      <th>continue_drop</th>\n",
       "      <th>student_id</th>\n",
       "      <th>gender</th>\n",
       "      <th>caste</th>\n",
       "      <th>mathematics_marks</th>\n",
       "      <th>english_marks</th>\n",
       "      <th>science_marks</th>\n",
       "      <th>science_teacher</th>\n",
       "      <th>languages_teacher</th>\n",
       "      <th>guardian</th>\n",
       "      <th>internet</th>\n",
       "      <th>school_id</th>\n",
       "      <th>total_students</th>\n",
       "      <th>total_toilets</th>\n",
       "      <th>establishment_year</th>\n",
       "    </tr>\n",
       "  </thead>\n",
       "  <tbody>\n",
       "    <tr>\n",
       "      <th>0</th>\n",
       "      <td>continue</td>\n",
       "      <td>s17477</td>\n",
       "      <td>M</td>\n",
       "      <td>BC</td>\n",
       "      <td>0.393</td>\n",
       "      <td>0.338</td>\n",
       "      <td>0.393</td>\n",
       "      <td>2</td>\n",
       "      <td>2</td>\n",
       "      <td>mother</td>\n",
       "      <td>1</td>\n",
       "      <td>362</td>\n",
       "      <td>397</td>\n",
       "      <td>5.0</td>\n",
       "      <td>1950.0</td>\n",
       "    </tr>\n",
       "    <tr>\n",
       "      <th>1</th>\n",
       "      <td>continue</td>\n",
       "      <td>s16612</td>\n",
       "      <td>M</td>\n",
       "      <td>SC</td>\n",
       "      <td>0.745</td>\n",
       "      <td>0.645</td>\n",
       "      <td>0.745</td>\n",
       "      <td>4</td>\n",
       "      <td>3</td>\n",
       "      <td>father</td>\n",
       "      <td>1</td>\n",
       "      <td>357</td>\n",
       "      <td>57</td>\n",
       "      <td>14.0</td>\n",
       "      <td>1929.0</td>\n",
       "    </tr>\n",
       "    <tr>\n",
       "      <th>2</th>\n",
       "      <td>continue</td>\n",
       "      <td>s04010</td>\n",
       "      <td>M</td>\n",
       "      <td>BC</td>\n",
       "      <td>0.788</td>\n",
       "      <td>0.655</td>\n",
       "      <td>0.788</td>\n",
       "      <td>8</td>\n",
       "      <td>9</td>\n",
       "      <td>father</td>\n",
       "      <td>1</td>\n",
       "      <td>340</td>\n",
       "      <td>134</td>\n",
       "      <td>15.0</td>\n",
       "      <td>1976.0</td>\n",
       "    </tr>\n",
       "    <tr>\n",
       "      <th>3</th>\n",
       "      <td>drop</td>\n",
       "      <td>s11124</td>\n",
       "      <td>F</td>\n",
       "      <td>BC</td>\n",
       "      <td>0.623</td>\n",
       "      <td>0.699</td>\n",
       "      <td>0.623</td>\n",
       "      <td>6</td>\n",
       "      <td>0</td>\n",
       "      <td>father</td>\n",
       "      <td>1</td>\n",
       "      <td>345</td>\n",
       "      <td>143</td>\n",
       "      <td>28.0</td>\n",
       "      <td>1879.0</td>\n",
       "    </tr>\n",
       "    <tr>\n",
       "      <th>4</th>\n",
       "      <td>continue</td>\n",
       "      <td>s04384</td>\n",
       "      <td>M</td>\n",
       "      <td>SC</td>\n",
       "      <td>0.951</td>\n",
       "      <td>0.704</td>\n",
       "      <td>0.951</td>\n",
       "      <td>8</td>\n",
       "      <td>4</td>\n",
       "      <td>mother</td>\n",
       "      <td>1</td>\n",
       "      <td>304</td>\n",
       "      <td>390</td>\n",
       "      <td>28.0</td>\n",
       "      <td>1914.0</td>\n",
       "    </tr>\n",
       "  </tbody>\n",
       "</table>\n",
       "</div>"
      ],
      "text/plain": [
       "  continue_drop student_id gender caste  mathematics_marks  english_marks  \\\n",
       "0      continue     s17477      M    BC              0.393          0.338   \n",
       "1      continue     s16612      M    SC              0.745          0.645   \n",
       "2      continue     s04010      M    BC              0.788          0.655   \n",
       "3          drop     s11124      F    BC              0.623          0.699   \n",
       "4      continue     s04384      M    SC              0.951          0.704   \n",
       "\n",
       "   science_marks  science_teacher  languages_teacher guardian  internet  \\\n",
       "0          0.393                2                  2   mother         1   \n",
       "1          0.745                4                  3   father         1   \n",
       "2          0.788                8                  9   father         1   \n",
       "3          0.623                6                  0   father         1   \n",
       "4          0.951                8                  4   mother         1   \n",
       "\n",
       "   school_id  total_students  total_toilets  establishment_year  \n",
       "0        362             397            5.0              1950.0  \n",
       "1        357              57           14.0              1929.0  \n",
       "2        340             134           15.0              1976.0  \n",
       "3        345             143           28.0              1879.0  \n",
       "4        304             390           28.0              1914.0  "
      ]
     },
     "execution_count": 91,
     "metadata": {},
     "output_type": "execute_result"
    }
   ],
   "source": [
    "# show the first five rows\n",
    "data.head() "
   ]
  },
  {
   "cell_type": "code",
   "execution_count": 92,
   "metadata": {
    "ExecuteTime": {
     "end_time": "2019-04-08T07:00:18.919106Z",
     "start_time": "2019-04-08T07:00:18.898506Z"
    }
   },
   "outputs": [
    {
     "data": {
      "text/plain": [
       "Index(['continue_drop', 'student_id', 'gender', 'caste', 'mathematics_marks',\n",
       "       'english_marks', 'science_marks', 'science_teacher',\n",
       "       'languages_teacher', 'guardian', 'internet', 'school_id',\n",
       "       'total_students', 'total_toilets', 'establishment_year'],\n",
       "      dtype='object')"
      ]
     },
     "execution_count": 92,
     "metadata": {},
     "output_type": "execute_result"
    }
   ],
   "source": [
    "#show list of column\n",
    "data.columns "
   ]
  },
  {
   "cell_type": "code",
   "execution_count": 93,
   "metadata": {
    "ExecuteTime": {
     "end_time": "2019-04-08T07:00:20.748547Z",
     "start_time": "2019-04-08T07:00:20.717545Z"
    }
   },
   "outputs": [
    {
     "name": "stdout",
     "output_type": "stream",
     "text": [
      "<class 'pandas.core.frame.DataFrame'>\n",
      "RangeIndex: 17190 entries, 0 to 17189\n",
      "Data columns (total 15 columns):\n",
      "continue_drop         17190 non-null object\n",
      "student_id            17190 non-null object\n",
      "gender                17190 non-null object\n",
      "caste                 17190 non-null object\n",
      "mathematics_marks     17190 non-null float64\n",
      "english_marks         17190 non-null float64\n",
      "science_marks         17190 non-null float64\n",
      "science_teacher       17190 non-null int64\n",
      "languages_teacher     17190 non-null int64\n",
      "guardian              17190 non-null object\n",
      "internet              17190 non-null int64\n",
      "school_id             17190 non-null int64\n",
      "total_students        17190 non-null int64\n",
      "total_toilets         16881 non-null float64\n",
      "establishment_year    16881 non-null float64\n",
      "dtypes: float64(5), int64(5), object(5)\n",
      "memory usage: 2.0+ MB\n"
     ]
    }
   ],
   "source": [
    "# show data information  \n",
    "data.info() "
   ]
  },
  {
   "cell_type": "markdown",
   "metadata": {},
   "source": [
    "We have some object types columns"
   ]
  },
  {
   "cell_type": "code",
   "execution_count": 94,
   "metadata": {
    "ExecuteTime": {
     "end_time": "2019-04-08T07:00:27.338807Z",
     "start_time": "2019-04-08T07:00:27.322806Z"
    }
   },
   "outputs": [
    {
     "data": {
      "text/plain": [
       "(17190, 15)"
      ]
     },
     "execution_count": 94,
     "metadata": {},
     "output_type": "execute_result"
    }
   ],
   "source": [
    "# check the shape of the data\n",
    "data.shape "
   ]
  },
  {
   "cell_type": "code",
   "execution_count": 95,
   "metadata": {
    "ExecuteTime": {
     "end_time": "2019-04-08T07:00:37.822216Z",
     "start_time": "2019-04-08T07:00:37.781015Z"
    }
   },
   "outputs": [
    {
     "data": {
      "text/plain": [
       "continue_drop           0\n",
       "student_id              0\n",
       "gender                  0\n",
       "caste                   0\n",
       "mathematics_marks       0\n",
       "english_marks           0\n",
       "science_marks           0\n",
       "science_teacher         0\n",
       "languages_teacher       0\n",
       "guardian                0\n",
       "internet                0\n",
       "school_id               0\n",
       "total_students          0\n",
       "total_toilets         309\n",
       "establishment_year    309\n",
       "dtype: int64"
      ]
     },
     "execution_count": 95,
     "metadata": {},
     "output_type": "execute_result"
    }
   ],
   "source": [
    "## Check for missing values \n",
    "data.isnull().sum() "
   ]
  },
  {
   "cell_type": "markdown",
   "metadata": {},
   "source": [
    " One percent of data is missing in  total toilets and establishment year columns. Let ignore these columns by addding the following line in the load data function. We will also delete the student id column\n",
    " \n",
    " ```python\n",
    "    data.drop(['total_toilets','establishment_year', 'student_id', 'school_id'], axis=1, inplace=True)\n",
    "```"
   ]
  },
  {
   "cell_type": "code",
   "execution_count": 96,
   "metadata": {
    "ExecuteTime": {
     "end_time": "2019-04-08T07:00:43.010115Z",
     "start_time": "2019-04-08T07:00:43.001115Z"
    }
   },
   "outputs": [],
   "source": [
    "data.drop(['total_toilets','establishment_year'], axis=1, inplace=True)  "
   ]
  },
  {
   "cell_type": "code",
   "execution_count": 97,
   "metadata": {
    "ExecuteTime": {
     "end_time": "2019-04-08T07:00:46.632447Z",
     "start_time": "2019-04-08T07:00:46.588246Z"
    }
   },
   "outputs": [
    {
     "data": {
      "text/html": [
       "<div>\n",
       "<style scoped>\n",
       "    .dataframe tbody tr th:only-of-type {\n",
       "        vertical-align: middle;\n",
       "    }\n",
       "\n",
       "    .dataframe tbody tr th {\n",
       "        vertical-align: top;\n",
       "    }\n",
       "\n",
       "    .dataframe thead th {\n",
       "        text-align: right;\n",
       "    }\n",
       "</style>\n",
       "<table border=\"1\" class=\"dataframe\">\n",
       "  <thead>\n",
       "    <tr style=\"text-align: right;\">\n",
       "      <th></th>\n",
       "      <th>continue_drop</th>\n",
       "      <th>student_id</th>\n",
       "      <th>gender</th>\n",
       "      <th>caste</th>\n",
       "      <th>mathematics_marks</th>\n",
       "      <th>english_marks</th>\n",
       "      <th>science_marks</th>\n",
       "      <th>science_teacher</th>\n",
       "      <th>languages_teacher</th>\n",
       "      <th>guardian</th>\n",
       "      <th>internet</th>\n",
       "      <th>school_id</th>\n",
       "      <th>total_students</th>\n",
       "    </tr>\n",
       "  </thead>\n",
       "  <tbody>\n",
       "    <tr>\n",
       "      <th>12788</th>\n",
       "      <td>continue</td>\n",
       "      <td>s09804</td>\n",
       "      <td>M</td>\n",
       "      <td>OC</td>\n",
       "      <td>0.214</td>\n",
       "      <td>0.684</td>\n",
       "      <td>0.214</td>\n",
       "      <td>4</td>\n",
       "      <td>3</td>\n",
       "      <td>mixed</td>\n",
       "      <td>1</td>\n",
       "      <td>369</td>\n",
       "      <td>387</td>\n",
       "    </tr>\n",
       "    <tr>\n",
       "      <th>509</th>\n",
       "      <td>continue</td>\n",
       "      <td>s15046</td>\n",
       "      <td>F</td>\n",
       "      <td>SC</td>\n",
       "      <td>0.332</td>\n",
       "      <td>0.289</td>\n",
       "      <td>0.332</td>\n",
       "      <td>5</td>\n",
       "      <td>10</td>\n",
       "      <td>mother</td>\n",
       "      <td>1</td>\n",
       "      <td>323</td>\n",
       "      <td>344</td>\n",
       "    </tr>\n",
       "    <tr>\n",
       "      <th>1222</th>\n",
       "      <td>continue</td>\n",
       "      <td>s14142</td>\n",
       "      <td>F</td>\n",
       "      <td>OC</td>\n",
       "      <td>0.480</td>\n",
       "      <td>0.457</td>\n",
       "      <td>0.480</td>\n",
       "      <td>2</td>\n",
       "      <td>9</td>\n",
       "      <td>mother</td>\n",
       "      <td>1</td>\n",
       "      <td>359</td>\n",
       "      <td>305</td>\n",
       "    </tr>\n",
       "    <tr>\n",
       "      <th>9545</th>\n",
       "      <td>continue</td>\n",
       "      <td>s17262</td>\n",
       "      <td>F</td>\n",
       "      <td>BC</td>\n",
       "      <td>0.390</td>\n",
       "      <td>0.511</td>\n",
       "      <td>0.390</td>\n",
       "      <td>4</td>\n",
       "      <td>10</td>\n",
       "      <td>mother</td>\n",
       "      <td>1</td>\n",
       "      <td>390</td>\n",
       "      <td>140</td>\n",
       "    </tr>\n",
       "    <tr>\n",
       "      <th>3528</th>\n",
       "      <td>continue</td>\n",
       "      <td>s00039</td>\n",
       "      <td>F</td>\n",
       "      <td>ST</td>\n",
       "      <td>0.563</td>\n",
       "      <td>0.626</td>\n",
       "      <td>0.563</td>\n",
       "      <td>2</td>\n",
       "      <td>6</td>\n",
       "      <td>mother</td>\n",
       "      <td>1</td>\n",
       "      <td>397</td>\n",
       "      <td>221</td>\n",
       "    </tr>\n",
       "  </tbody>\n",
       "</table>\n",
       "</div>"
      ],
      "text/plain": [
       "      continue_drop student_id gender caste  mathematics_marks  english_marks  \\\n",
       "12788      continue     s09804      M    OC              0.214          0.684   \n",
       "509        continue     s15046      F    SC              0.332          0.289   \n",
       "1222       continue     s14142      F    OC              0.480          0.457   \n",
       "9545       continue     s17262      F    BC              0.390          0.511   \n",
       "3528       continue     s00039      F    ST              0.563          0.626   \n",
       "\n",
       "       science_marks  science_teacher  languages_teacher guardian  internet  \\\n",
       "12788          0.214                4                  3    mixed         1   \n",
       "509            0.332                5                 10   mother         1   \n",
       "1222           0.480                2                  9   mother         1   \n",
       "9545           0.390                4                 10   mother         1   \n",
       "3528           0.563                2                  6   mother         1   \n",
       "\n",
       "       school_id  total_students  \n",
       "12788        369             387  \n",
       "509          323             344  \n",
       "1222         359             305  \n",
       "9545         390             140  \n",
       "3528         397             221  "
      ]
     },
     "execution_count": 97,
     "metadata": {},
     "output_type": "execute_result"
    }
   ],
   "source": [
    "# check again your data\n",
    "data.sample(5) "
   ]
  },
  {
   "cell_type": "markdown",
   "metadata": {},
   "source": [
    "Drop School_id and student_id columns "
   ]
  },
  {
   "cell_type": "code",
   "execution_count": 98,
   "metadata": {
    "ExecuteTime": {
     "end_time": "2019-04-08T07:00:54.672074Z",
     "start_time": "2019-04-08T07:00:54.648474Z"
    }
   },
   "outputs": [],
   "source": [
    "data.drop(['student_id','school_id'], axis=1, inplace=True)   "
   ]
  },
  {
   "cell_type": "code",
   "execution_count": 99,
   "metadata": {
    "ExecuteTime": {
     "end_time": "2019-04-08T07:00:55.298106Z",
     "start_time": "2019-04-08T07:00:55.266906Z"
    }
   },
   "outputs": [
    {
     "data": {
      "text/plain": [
       "(17190, 11)"
      ]
     },
     "execution_count": 99,
     "metadata": {},
     "output_type": "execute_result"
    }
   ],
   "source": [
    "# check shape again\n",
    "data.shape  "
   ]
  },
  {
   "cell_type": "code",
   "execution_count": 100,
   "metadata": {},
   "outputs": [],
   "source": [
    "#split features and target variable \n",
    "target = data['continue_drop']\n",
    "features = data.drop(['continue_drop'], axis=1)  "
   ]
  },
  {
   "cell_type": "markdown",
   "metadata": {},
   "source": [
    "## Get Dummies\n",
    "\n",
    "Pandas get_dummies method is a very straight forward one step procedure to get the dummy variables for categorical features. The advantage is you can directly apply it on the dataframe and the algorithm inside will recognize the categorical features and perform get dummies operation on it.\n",
    "\n",
    "Let's  create dummy variables(aka 1 or 0) for categorical features by using **get_dummies()** function from Pandas module."
   ]
  },
  {
   "cell_type": "code",
   "execution_count": 101,
   "metadata": {},
   "outputs": [],
   "source": [
    "#create dummy for categorical features \n",
    "data_with_dummies = pd.get_dummies(features)"
   ]
  },
  {
   "cell_type": "code",
   "execution_count": 102,
   "metadata": {},
   "outputs": [
    {
     "data": {
      "text/html": [
       "<div>\n",
       "<style scoped>\n",
       "    .dataframe tbody tr th:only-of-type {\n",
       "        vertical-align: middle;\n",
       "    }\n",
       "\n",
       "    .dataframe tbody tr th {\n",
       "        vertical-align: top;\n",
       "    }\n",
       "\n",
       "    .dataframe thead th {\n",
       "        text-align: right;\n",
       "    }\n",
       "</style>\n",
       "<table border=\"1\" class=\"dataframe\">\n",
       "  <thead>\n",
       "    <tr style=\"text-align: right;\">\n",
       "      <th></th>\n",
       "      <th>mathematics_marks</th>\n",
       "      <th>english_marks</th>\n",
       "      <th>science_marks</th>\n",
       "      <th>science_teacher</th>\n",
       "      <th>languages_teacher</th>\n",
       "      <th>internet</th>\n",
       "      <th>total_students</th>\n",
       "      <th>gender_F</th>\n",
       "      <th>gender_M</th>\n",
       "      <th>caste_BC</th>\n",
       "      <th>caste_OC</th>\n",
       "      <th>caste_SC</th>\n",
       "      <th>caste_ST</th>\n",
       "      <th>guardian_father</th>\n",
       "      <th>guardian_mixed</th>\n",
       "      <th>guardian_mother</th>\n",
       "      <th>guardian_other</th>\n",
       "    </tr>\n",
       "  </thead>\n",
       "  <tbody>\n",
       "    <tr>\n",
       "      <th>0</th>\n",
       "      <td>0.393</td>\n",
       "      <td>0.338</td>\n",
       "      <td>0.393</td>\n",
       "      <td>2</td>\n",
       "      <td>2</td>\n",
       "      <td>1</td>\n",
       "      <td>397</td>\n",
       "      <td>0</td>\n",
       "      <td>1</td>\n",
       "      <td>1</td>\n",
       "      <td>0</td>\n",
       "      <td>0</td>\n",
       "      <td>0</td>\n",
       "      <td>0</td>\n",
       "      <td>0</td>\n",
       "      <td>1</td>\n",
       "      <td>0</td>\n",
       "    </tr>\n",
       "    <tr>\n",
       "      <th>1</th>\n",
       "      <td>0.745</td>\n",
       "      <td>0.645</td>\n",
       "      <td>0.745</td>\n",
       "      <td>4</td>\n",
       "      <td>3</td>\n",
       "      <td>1</td>\n",
       "      <td>57</td>\n",
       "      <td>0</td>\n",
       "      <td>1</td>\n",
       "      <td>0</td>\n",
       "      <td>0</td>\n",
       "      <td>1</td>\n",
       "      <td>0</td>\n",
       "      <td>1</td>\n",
       "      <td>0</td>\n",
       "      <td>0</td>\n",
       "      <td>0</td>\n",
       "    </tr>\n",
       "    <tr>\n",
       "      <th>2</th>\n",
       "      <td>0.788</td>\n",
       "      <td>0.655</td>\n",
       "      <td>0.788</td>\n",
       "      <td>8</td>\n",
       "      <td>9</td>\n",
       "      <td>1</td>\n",
       "      <td>134</td>\n",
       "      <td>0</td>\n",
       "      <td>1</td>\n",
       "      <td>1</td>\n",
       "      <td>0</td>\n",
       "      <td>0</td>\n",
       "      <td>0</td>\n",
       "      <td>1</td>\n",
       "      <td>0</td>\n",
       "      <td>0</td>\n",
       "      <td>0</td>\n",
       "    </tr>\n",
       "    <tr>\n",
       "      <th>3</th>\n",
       "      <td>0.623</td>\n",
       "      <td>0.699</td>\n",
       "      <td>0.623</td>\n",
       "      <td>6</td>\n",
       "      <td>0</td>\n",
       "      <td>1</td>\n",
       "      <td>143</td>\n",
       "      <td>1</td>\n",
       "      <td>0</td>\n",
       "      <td>1</td>\n",
       "      <td>0</td>\n",
       "      <td>0</td>\n",
       "      <td>0</td>\n",
       "      <td>1</td>\n",
       "      <td>0</td>\n",
       "      <td>0</td>\n",
       "      <td>0</td>\n",
       "    </tr>\n",
       "    <tr>\n",
       "      <th>4</th>\n",
       "      <td>0.951</td>\n",
       "      <td>0.704</td>\n",
       "      <td>0.951</td>\n",
       "      <td>8</td>\n",
       "      <td>4</td>\n",
       "      <td>1</td>\n",
       "      <td>390</td>\n",
       "      <td>0</td>\n",
       "      <td>1</td>\n",
       "      <td>0</td>\n",
       "      <td>0</td>\n",
       "      <td>1</td>\n",
       "      <td>0</td>\n",
       "      <td>0</td>\n",
       "      <td>0</td>\n",
       "      <td>1</td>\n",
       "      <td>0</td>\n",
       "    </tr>\n",
       "  </tbody>\n",
       "</table>\n",
       "</div>"
      ],
      "text/plain": [
       "   mathematics_marks  english_marks  science_marks  science_teacher  \\\n",
       "0              0.393          0.338          0.393                2   \n",
       "1              0.745          0.645          0.745                4   \n",
       "2              0.788          0.655          0.788                8   \n",
       "3              0.623          0.699          0.623                6   \n",
       "4              0.951          0.704          0.951                8   \n",
       "\n",
       "   languages_teacher  internet  total_students  gender_F  gender_M  caste_BC  \\\n",
       "0                  2         1             397         0         1         1   \n",
       "1                  3         1              57         0         1         0   \n",
       "2                  9         1             134         0         1         1   \n",
       "3                  0         1             143         1         0         1   \n",
       "4                  4         1             390         0         1         0   \n",
       "\n",
       "   caste_OC  caste_SC  caste_ST  guardian_father  guardian_mixed  \\\n",
       "0         0         0         0                0               0   \n",
       "1         0         1         0                1               0   \n",
       "2         0         0         0                1               0   \n",
       "3         0         0         0                1               0   \n",
       "4         0         1         0                0               0   \n",
       "\n",
       "   guardian_mother  guardian_other  \n",
       "0                1               0  \n",
       "1                0               0  \n",
       "2                0               0  \n",
       "3                0               0  \n",
       "4                1               0  "
      ]
     },
     "execution_count": 102,
     "metadata": {},
     "output_type": "execute_result"
    }
   ],
   "source": [
    "data_with_dummies.head() "
   ]
  },
  {
   "cell_type": "code",
   "execution_count": 103,
   "metadata": {},
   "outputs": [
    {
     "data": {
      "text/plain": [
       "(17190, 17)"
      ]
     },
     "execution_count": 103,
     "metadata": {},
     "output_type": "execute_result"
    }
   ],
   "source": [
    "data_with_dummies.shape"
   ]
  },
  {
   "cell_type": "markdown",
   "metadata": {},
   "source": [
    "## Label Encoder\n",
    "\n",
    "LabelEncoder converts each class under specified feature to a numerical value."
   ]
  },
  {
   "cell_type": "code",
   "execution_count": 104,
   "metadata": {
    "ExecuteTime": {
     "end_time": "2019-04-08T07:01:00.096643Z",
     "start_time": "2019-04-08T07:01:00.066042Z"
    }
   },
   "outputs": [],
   "source": [
    "# convert object types into integer types \n",
    "le = preprocessing.LabelEncoder()\n",
    "data['gender'] = le.fit_transform(data['gender'])\n",
    "data['guardian'] = le.fit_transform(data['guardian'])\n",
    "data['caste']  = le.fit_transform(data['caste'])\n",
    "data['continue_drop']= le.fit_transform( data['continue_drop']) "
   ]
  },
  {
   "cell_type": "code",
   "execution_count": 105,
   "metadata": {
    "ExecuteTime": {
     "end_time": "2019-04-08T07:01:00.554669Z",
     "start_time": "2019-04-08T07:01:00.534668Z"
    }
   },
   "outputs": [
    {
     "data": {
      "text/html": [
       "<div>\n",
       "<style scoped>\n",
       "    .dataframe tbody tr th:only-of-type {\n",
       "        vertical-align: middle;\n",
       "    }\n",
       "\n",
       "    .dataframe tbody tr th {\n",
       "        vertical-align: top;\n",
       "    }\n",
       "\n",
       "    .dataframe thead th {\n",
       "        text-align: right;\n",
       "    }\n",
       "</style>\n",
       "<table border=\"1\" class=\"dataframe\">\n",
       "  <thead>\n",
       "    <tr style=\"text-align: right;\">\n",
       "      <th></th>\n",
       "      <th>continue_drop</th>\n",
       "      <th>gender</th>\n",
       "      <th>caste</th>\n",
       "      <th>mathematics_marks</th>\n",
       "      <th>english_marks</th>\n",
       "      <th>science_marks</th>\n",
       "      <th>science_teacher</th>\n",
       "      <th>languages_teacher</th>\n",
       "      <th>guardian</th>\n",
       "      <th>internet</th>\n",
       "      <th>total_students</th>\n",
       "    </tr>\n",
       "  </thead>\n",
       "  <tbody>\n",
       "    <tr>\n",
       "      <th>0</th>\n",
       "      <td>0</td>\n",
       "      <td>1</td>\n",
       "      <td>0</td>\n",
       "      <td>0.393</td>\n",
       "      <td>0.338</td>\n",
       "      <td>0.393</td>\n",
       "      <td>2</td>\n",
       "      <td>2</td>\n",
       "      <td>2</td>\n",
       "      <td>1</td>\n",
       "      <td>397</td>\n",
       "    </tr>\n",
       "    <tr>\n",
       "      <th>1</th>\n",
       "      <td>0</td>\n",
       "      <td>1</td>\n",
       "      <td>2</td>\n",
       "      <td>0.745</td>\n",
       "      <td>0.645</td>\n",
       "      <td>0.745</td>\n",
       "      <td>4</td>\n",
       "      <td>3</td>\n",
       "      <td>0</td>\n",
       "      <td>1</td>\n",
       "      <td>57</td>\n",
       "    </tr>\n",
       "    <tr>\n",
       "      <th>2</th>\n",
       "      <td>0</td>\n",
       "      <td>1</td>\n",
       "      <td>0</td>\n",
       "      <td>0.788</td>\n",
       "      <td>0.655</td>\n",
       "      <td>0.788</td>\n",
       "      <td>8</td>\n",
       "      <td>9</td>\n",
       "      <td>0</td>\n",
       "      <td>1</td>\n",
       "      <td>134</td>\n",
       "    </tr>\n",
       "    <tr>\n",
       "      <th>3</th>\n",
       "      <td>1</td>\n",
       "      <td>0</td>\n",
       "      <td>0</td>\n",
       "      <td>0.623</td>\n",
       "      <td>0.699</td>\n",
       "      <td>0.623</td>\n",
       "      <td>6</td>\n",
       "      <td>0</td>\n",
       "      <td>0</td>\n",
       "      <td>1</td>\n",
       "      <td>143</td>\n",
       "    </tr>\n",
       "    <tr>\n",
       "      <th>4</th>\n",
       "      <td>0</td>\n",
       "      <td>1</td>\n",
       "      <td>2</td>\n",
       "      <td>0.951</td>\n",
       "      <td>0.704</td>\n",
       "      <td>0.951</td>\n",
       "      <td>8</td>\n",
       "      <td>4</td>\n",
       "      <td>2</td>\n",
       "      <td>1</td>\n",
       "      <td>390</td>\n",
       "    </tr>\n",
       "  </tbody>\n",
       "</table>\n",
       "</div>"
      ],
      "text/plain": [
       "   continue_drop  gender  caste  mathematics_marks  english_marks  \\\n",
       "0              0       1      0              0.393          0.338   \n",
       "1              0       1      2              0.745          0.645   \n",
       "2              0       1      0              0.788          0.655   \n",
       "3              1       0      0              0.623          0.699   \n",
       "4              0       1      2              0.951          0.704   \n",
       "\n",
       "   science_marks  science_teacher  languages_teacher  guardian  internet  \\\n",
       "0          0.393                2                  2         2         1   \n",
       "1          0.745                4                  3         0         1   \n",
       "2          0.788                8                  9         0         1   \n",
       "3          0.623                6                  0         0         1   \n",
       "4          0.951                8                  4         2         1   \n",
       "\n",
       "   total_students  \n",
       "0             397  \n",
       "1              57  \n",
       "2             134  \n",
       "3             143  \n",
       "4             390  "
      ]
     },
     "execution_count": 105,
     "metadata": {},
     "output_type": "execute_result"
    }
   ],
   "source": [
    "# let see some of our data again \n",
    "data.head() "
   ]
  },
  {
   "cell_type": "markdown",
   "metadata": {},
   "source": [
    "NB:In continue_drop column : 0 represent continue and 1 represent drop\n",
    "\n",
    "Label encoding has the advantage that it is straightforward but it has the disadvantage that the numeric values can be “misinterpreted” by the algorithms. For example, the value of 0 is obviously less than the value of 4 but does that really correspond to the data set in real life?"
   ]
  },
  {
   "cell_type": "markdown",
   "metadata": {},
   "source": [
    "## OneHotEncoder\n",
    "\n",
    "After label encoding, we might confuse our model into thinking that a column has data with some kind of order or hierarchy, when we clearly don’t have it.To avoid this, we ‘OneHotEncode’ that column.\n",
    "\n",
    "What one hot encoding does is, it takes a column which has categorical data, which has been label encoded, and then splits the column into multiple columns. The numbers are replaced by 1s and 0s, depending on which column has what value.\n"
   ]
  },
  {
   "cell_type": "code",
   "execution_count": 108,
   "metadata": {},
   "outputs": [],
   "source": [
    "# import OneHotEncoder\n",
    "from sklearn.preprocessing import OneHotEncoder\n",
    "\n",
    "# instantiate OneHotEncoder\n",
    "ohe = OneHotEncoder(sparse=False) \n",
    "# categorical_features = boolean mask for categorical columns\n",
    "# sparse = False output an array not sparse matrix\n"
   ]
  },
  {
   "cell_type": "code",
   "execution_count": 109,
   "metadata": {},
   "outputs": [],
   "source": [
    "# apply OneHotEncoder on categorical feature columns\n",
    "X_ohe = ohe.fit_transform(features) # It returns an numpy array"
   ]
  },
  {
   "cell_type": "code",
   "execution_count": 112,
   "metadata": {},
   "outputs": [
    {
     "data": {
      "text/plain": [
       "array([[0., 1., 1., ..., 0., 0., 0.],\n",
       "       [0., 1., 0., ..., 0., 0., 0.],\n",
       "       [0., 1., 1., ..., 0., 0., 0.],\n",
       "       ...,\n",
       "       [0., 1., 0., ..., 0., 0., 0.],\n",
       "       [1., 0., 1., ..., 0., 0., 0.],\n",
       "       [0., 1., 0., ..., 0., 0., 0.]])"
      ]
     },
     "execution_count": 112,
     "metadata": {},
     "output_type": "execute_result"
    }
   ],
   "source": [
    "X_ohe"
   ]
  },
  {
   "cell_type": "markdown",
   "metadata": {},
   "source": [
    "Encoding categorical variables is an important step in the data science process. Because there are multiple approaches to encoding variables, it is important to understand the various options and how to implement them on your own data sets. The python data science ecosystem has many helpful approaches to handling these problems. I encourage you to keep these ideas in mind the next time you find yourself analyzing categorical variables"
   ]
  },
  {
   "cell_type": "code",
   "execution_count": null,
   "metadata": {},
   "outputs": [],
   "source": []
  }
 ],
 "metadata": {
  "hide_input": false,
  "kernelspec": {
   "display_name": "Python 3",
   "language": "python",
   "name": "python3"
  },
  "language_info": {
   "codemirror_mode": {
    "name": "ipython",
    "version": 3
   },
   "file_extension": ".py",
   "mimetype": "text/x-python",
   "name": "python",
   "nbconvert_exporter": "python",
   "pygments_lexer": "ipython3",
   "version": "3.7.3"
  },
  "latex_envs": {
   "LaTeX_envs_menu_present": true,
   "autoclose": false,
   "autocomplete": true,
   "bibliofile": "biblio.bib",
   "cite_by": "apalike",
   "current_citInitial": 1,
   "eqLabelWithNumbers": true,
   "eqNumInitial": 1,
   "hotkeys": {
    "equation": "Ctrl-E",
    "itemize": "Ctrl-I"
   },
   "labels_anchors": false,
   "latex_user_defs": false,
   "report_style_numbering": false,
   "user_envs_cfg": false
  },
  "toc": {
   "base_numbering": 1,
   "nav_menu": {},
   "number_sections": true,
   "sideBar": true,
   "skip_h1_title": false,
   "title_cell": "Table of Contents",
   "title_sidebar": "Contents",
   "toc_cell": false,
   "toc_position": {},
   "toc_section_display": true,
   "toc_window_display": false
  },
  "varInspector": {
   "cols": {
    "lenName": 16,
    "lenType": 16,
    "lenVar": 40
   },
   "kernels_config": {
    "python": {
     "delete_cmd_postfix": "",
     "delete_cmd_prefix": "del ",
     "library": "var_list.py",
     "varRefreshCmd": "print(var_dic_list())"
    },
    "r": {
     "delete_cmd_postfix": ") ",
     "delete_cmd_prefix": "rm(",
     "library": "var_list.r",
     "varRefreshCmd": "cat(var_dic_list()) "
    }
   },
   "types_to_exclude": [
    "module",
    "function",
    "builtin_function_or_method",
    "instance",
    "_Feature"
   ],
   "window_display": false
  }
 },
 "nbformat": 4,
 "nbformat_minor": 2
}
